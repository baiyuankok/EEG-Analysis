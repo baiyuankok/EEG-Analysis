{
 "cells": [
  {
   "cell_type": "code",
   "execution_count": 1,
   "metadata": {
    "id": "SSXNJWJSTgu3"
   },
   "outputs": [],
   "source": [
    "import numpy as np\n",
    "import pandas as pd\n",
    "import matplotlib.pyplot as plt\n",
    "import os\n",
    "from numpy import mean\n",
    "from numpy import std\n",
    "from sklearn import svm\n",
    "from sklearn import metrics\n",
    "from sklearn.preprocessing import MinMaxScaler\n",
    "from sklearn.preprocessing import RobustScaler\n",
    "from sklearn.preprocessing import StandardScaler\n",
    "from sklearn.model_selection import train_test_split\n",
    "from sklearn.model_selection import GridSearchCV\n",
    "from sklearn.model_selection import cross_val_score\n",
    "from sklearn.metrics import plot_confusion_matrix\n",
    "from sklearn.metrics import classification_report, confusion_matrix\n",
    "from sklearn.neighbors import KNeighborsClassifier\n",
    "from sklearn.ensemble import RandomForestClassifier\n",
    "from sklearn.tree import DecisionTreeClassifier\n",
    "from sklearn.svm import SVC\n",
    "from joblib import dump\n",
    "from joblib import load"
   ]
  },
  {
   "cell_type": "code",
   "execution_count": 3,
   "metadata": {
    "id": "d4B8WHr5TuQa"
   },
   "outputs": [],
   "source": [
    "%%capture\n",
    "all_ratings = pd.read_csv('https://raw.githubusercontent.com/baiyuankok/EEG-Analysis/master/STEW%20Original%20Dataset/ratings.txt', header=None)\n",
    "# current_dir = '/content/drive/MyDrive/STEW Features (Classification-Copy3 (for KNN)-Improved)'\n",
    "current_dir =  os.listdir (\"/content/drive/MyDrive/STEW Features (Classification-Copy3 (for KNN)-Improved)\")"
   ]
  },
  {
   "cell_type": "code",
   "execution_count": 4,
   "metadata": {
    "colab": {
     "base_uri": "https://localhost:8080/"
    },
    "id": "pg13_ic_Is-t",
    "outputId": "280a1236-0e61-4718-8d38-1ebc9cd01ffb"
   },
   "outputs": [
    {
     "data": {
      "text/plain": [
       "['01_lo.csv',\n",
       " '02_lo.csv',\n",
       " '03_lo.csv',\n",
       " '15_lo.csv',\n",
       " '07_lo.csv',\n",
       " '11_lo.csv',\n",
       " '16_lo.csv',\n",
       " '08_lo.csv',\n",
       " '12_lo.csv',\n",
       " '18_lo.csv',\n",
       " '06_lo.csv',\n",
       " '09_lo.csv',\n",
       " '13_lo.csv',\n",
       " '17_lo.csv',\n",
       " '14_lo.csv',\n",
       " '10_lo.csv',\n",
       " '04_lo.csv',\n",
       " '23_lo.csv',\n",
       " '21_lo.csv',\n",
       " '28_lo.csv',\n",
       " '29_lo.csv',\n",
       " '25_lo.csv',\n",
       " '20_lo.csv',\n",
       " '26_lo.csv',\n",
       " '22_lo.csv',\n",
       " '27_lo.csv',\n",
       " '19_lo.csv',\n",
       " '31_lo.csv',\n",
       " '35_lo.csv',\n",
       " '34_lo.csv',\n",
       " '38_lo.csv',\n",
       " '32_lo.csv',\n",
       " '39_lo.csv',\n",
       " '36_lo.csv',\n",
       " '37_lo.csv',\n",
       " '43_lo.csv',\n",
       " '33_lo.csv',\n",
       " '44_lo.csv',\n",
       " '30_lo.csv',\n",
       " '40_lo.csv',\n",
       " '45_lo.csv',\n",
       " '46_lo.csv',\n",
       " '41_lo.csv',\n",
       " '01_hi.csv',\n",
       " '07_hi.csv',\n",
       " '03_hi.csv',\n",
       " '13_hi.csv',\n",
       " '02_hi.csv',\n",
       " '10_hi.csv',\n",
       " '11_hi.csv',\n",
       " '14_hi.csv',\n",
       " '48_lo.csv',\n",
       " '06_hi.csv',\n",
       " '15_hi.csv',\n",
       " '47_lo.csv',\n",
       " '12_hi.csv',\n",
       " '04_hi.csv',\n",
       " '09_hi.csv',\n",
       " '08_hi.csv',\n",
       " '29_hi.csv',\n",
       " '31_hi.csv',\n",
       " '19_hi.csv',\n",
       " '17_hi.csv',\n",
       " '16_hi.csv',\n",
       " '20_hi.csv',\n",
       " '26_hi.csv',\n",
       " '30_hi.csv',\n",
       " '22_hi.csv',\n",
       " '32_hi.csv',\n",
       " '23_hi.csv',\n",
       " '18_hi.csv',\n",
       " '28_hi.csv',\n",
       " '21_hi.csv',\n",
       " '27_hi.csv',\n",
       " '25_hi.csv',\n",
       " '34_hi.csv',\n",
       " '44_hi.csv',\n",
       " '45_hi.csv',\n",
       " '41_hi.csv',\n",
       " '37_hi.csv',\n",
       " '36_hi.csv',\n",
       " '46_hi.csv',\n",
       " '43_hi.csv',\n",
       " '40_hi.csv',\n",
       " '38_hi.csv',\n",
       " '39_hi.csv',\n",
       " '33_hi.csv',\n",
       " '35_hi.csv',\n",
       " '47_hi.csv',\n",
       " '48_hi.csv']"
      ]
     },
     "execution_count": 4,
     "metadata": {},
     "output_type": "execute_result"
    }
   ],
   "source": [
    "current_dir"
   ]
  },
  {
   "cell_type": "code",
   "execution_count": 5,
   "metadata": {
    "id": "_kjChou0G1B3"
   },
   "outputs": [],
   "source": [
    "eeg_data = []\n",
    "ratings_list = []\n",
    "iterator = 1\n",
    "\n",
    "for current_file in current_dir:\n",
    "    if current_file[-3:] == 'csv':\n",
    "        subject = int(current_file[0:2])\n",
    "        rating = all_ratings[all_ratings[0] == subject] \n",
    "        if len(rating)==0:\n",
    "            rating_array = np.array([[0,0,0]])\n",
    "        else:\n",
    "            rating_array = rating.values\n",
    "        \n",
    "        current_file_dataframe = pd.read_csv('/content/drive/MyDrive/STEW Features (Classification-Copy3 (for KNN)-Improved)/' + current_file, header='infer', index_col=0)\n",
    "        eeg_data_numerical = current_file_dataframe.to_numpy().reshape(1, -1, 70)\n",
    "        current_file_dataframe['subj'] = subject\n",
    "        current_file_dataframe['hilo'] = current_file[3:5]\n",
    "        if current_file[3:5] == 'hi':\n",
    "            current_file_dataframe['subjective_rating'] = rating_array[0][2]\n",
    "            ratings_list.append(rating_array[0][2])\n",
    "        else:\n",
    "            current_file_dataframe['subjective_rating'] = rating_array[0][1]\n",
    "            ratings_list.append(rating_array[0][1])\n",
    "            \n",
    "        if iterator == 1:\n",
    "            X = eeg_data_numerical\n",
    "        else:\n",
    "            X = np.insert(X, len(X), eeg_data_numerical, axis=0)\n",
    "        iterator += 1\n",
    "\n",
    "        y = np.array(ratings_list)\n",
    "#         eeg_data.append(current_file_dataframe)\n",
    "#         X = current_file_dataframe.to_numpy().reshape(2, 3, 4)\n",
    "\n",
    "# X = current_file_dataframe.shape        \n",
    "# eeg_data = pd.concat(eeg_data)"
   ]
  },
  {
   "cell_type": "code",
   "execution_count": 6,
   "metadata": {
    "id": "wldZxPrtG64s"
   },
   "outputs": [],
   "source": [
    "subjective_ratings_grouped = [ 1 if (i == 1) else 2 if (2 <= i <= 3) else 3 if (4 <= i <= 5) else 4 if (6 <= i <= 7) else 5 for i in y ]\n",
    "\n",
    "y = np.array(subjective_ratings_grouped)\n",
    "\n",
    "X_train, X_test, y_train, y_test = train_test_split(X, y, test_size = 0.25, stratify= y, random_state = 4)"
   ]
  },
  {
   "cell_type": "code",
   "execution_count": 7,
   "metadata": {
    "id": "t73NREk-HCIa"
   },
   "outputs": [],
   "source": [
    "nsamples, nx, ny = X_train.shape\n",
    "X_train_reshaped = X_train.reshape((nsamples,nx*ny))\n",
    "\n",
    "nsamples, nx, ny = X_test.shape\n",
    "X_test_reshaped = X_test.reshape((nsamples,nx*ny))"
   ]
  },
  {
   "cell_type": "code",
   "execution_count": 8,
   "metadata": {
    "id": "wjnZTLq8HCSC"
   },
   "outputs": [],
   "source": [
    "from sklearn.model_selection import StratifiedKFold, GridSearchCV, RandomizedSearchCV\n",
    "from sklearn.metrics import accuracy_score, recall_score, precision_score, confusion_matrix\n",
    "from matplotlib.colors import ListedColormap\n",
    "import seaborn as sns\n",
    "import warnings; warnings.filterwarnings('ignore')\n",
    "\n",
    "def randomSearchForBestParameter(clf, param_grid, title, X_train, y_train):\n",
    "    # -----------------------------------------------------\n",
    "#     cv = StratifiedKFold(n_splits= 3, shuffle = True, random_state= 123)\n",
    "    n_iter_search = 100\n",
    "    randomSearch = RandomizedSearchCV(clf, \n",
    "                            param_distributions = param_grid,\n",
    "                            n_iter = n_iter_search, \n",
    "                            scoring= 'accuracy')\n",
    "    # -----------------------------------------------------\n",
    "    # Train model\n",
    "    randomSearch.fit(X_train, y_train)  \n",
    "    print(\"The best parameters are %s\" % (randomSearch.best_params_)) \n",
    "    return randomSearch.best_estimator_"
   ]
  },
  {
   "cell_type": "code",
   "execution_count": 9,
   "metadata": {
    "colab": {
     "base_uri": "https://localhost:8080/",
     "height": 563
    },
    "id": "66wnq3f3HIGp",
    "outputId": "31d9139d-e1d5-49c9-e5ba-a3e8262776a0"
   },
   "outputs": [
    {
     "name": "stdout",
     "output_type": "stream",
     "text": [
      "The best parameters are {'random_state': 42, 'n_estimators': 400, 'min_samples_split': 5, 'min_samples_leaf': 3, 'max_features': 'auto', 'bootstrap': False}\n",
      "Best: \n",
      "{'bootstrap': False, 'ccp_alpha': 0.0, 'class_weight': None, 'criterion': 'gini', 'max_depth': None, 'max_features': 'auto', 'max_leaf_nodes': None, 'max_samples': None, 'min_impurity_decrease': 0.0, 'min_samples_leaf': 3, 'min_samples_split': 5, 'min_weight_fraction_leaf': 0.0, 'n_estimators': 400, 'n_jobs': None, 'oob_score': False, 'random_state': 42, 'replacement': False, 'sampling_strategy': 'auto', 'verbose': 0, 'warm_start': False}\n",
      "              precision    recall  f1-score   support\n",
      "\n",
      "           1       0.50      0.50      0.50         6\n",
      "           2       0.33      0.20      0.25         5\n",
      "           3       0.60      0.75      0.67         4\n",
      "           4       0.67      0.80      0.73         5\n",
      "           5       0.33      0.33      0.33         3\n",
      "\n",
      "    accuracy                           0.52        23\n",
      "   macro avg       0.49      0.52      0.50        23\n",
      "weighted avg       0.50      0.52      0.50        23\n",
      "\n"
     ]
    },
    {
     "data": {
      "image/png": "[encoded data removed]",
      "text/plain": [
       "<Figure size 432x288 with 2 Axes>"
      ]
     },
     "metadata": {
      "needs_background": "light"
     },
     "output_type": "display_data"
    }
   ],
   "source": [
    "from imblearn.ensemble import BalancedRandomForestClassifier\n",
    "\n",
    "rf = BalancedRandomForestClassifier()\n",
    "\n",
    "param_grid = {'bootstrap': [False],\n",
    "             'max_features': ['auto'],\n",
    "             'min_samples_leaf': [3,4,5],\n",
    "             'min_samples_split': [3,5,10],\n",
    "             'n_estimators': range(50, 800, 50),\n",
    "             'random_state': [42]}\n",
    "\n",
    "rf_best = randomSearchForBestParameter(rf, param_grid, \"Balanced Random Forest\", X_train_reshaped, y_train)\n",
    "print(\"Best: \")\n",
    "print(rf_best.get_params())\n",
    "rf_best.fit(X_train_reshaped, y_train)\n",
    "y_predict = rf_best.predict(X_test_reshaped)\n",
    "\n",
    "class_names = list(set(y))\n",
    "disp = plot_confusion_matrix(rf_best, X_test_reshaped, y_test,\n",
    "                                 display_labels=class_names,\n",
    "                                 cmap=plt.cm.Blues)\n",
    "\n",
    "print(classification_report(y_test, y_predict))"
   ]
  }
 ],
 "metadata": {
  "accelerator": "GPU",
  "colab": {
   "name": "test.ipynb",
   "provenance": []
  },
  "gpuClass": "standard",
  "kernelspec": {
   "display_name": "Python 3 (ipykernel)",
   "language": "python",
   "name": "python3"
  },
  "language_info": {
   "codemirror_mode": {
    "name": "ipython",
    "version": 3
   },
   "file_extension": ".py",
   "mimetype": "text/x-python",
   "name": "python",
   "nbconvert_exporter": "python",
   "pygments_lexer": "ipython3",
   "version": "3.9.7"
  }
 },
 "nbformat": 4,
 "nbformat_minor": 1
}
