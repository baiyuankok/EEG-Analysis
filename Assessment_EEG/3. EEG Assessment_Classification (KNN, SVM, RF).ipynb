{
 "cells": [
  {
   "cell_type": "code",
   "execution_count": 1,
   "id": "d6acfe72",
   "metadata": {},
   "outputs": [],
   "source": [
    "import numpy as np\n",
    "import pandas as pd\n",
    "import matplotlib.pyplot as plt\n",
    "import os\n",
    "from numpy import mean\n",
    "from numpy import std\n",
    "from sklearn import svm\n",
    "from sklearn import metrics\n",
    "from sklearn.preprocessing import MinMaxScaler\n",
    "from sklearn.preprocessing import RobustScaler\n",
    "from sklearn.preprocessing import StandardScaler\n",
    "from sklearn.model_selection import train_test_split\n",
    "from sklearn.model_selection import GridSearchCV\n",
    "from sklearn.model_selection import cross_val_score\n",
    "from sklearn.metrics import plot_confusion_matrix\n",
    "from sklearn.metrics import classification_report, confusion_matrix\n",
    "from sklearn.neighbors import KNeighborsClassifier\n",
    "from sklearn.ensemble import RandomForestClassifier\n",
    "from sklearn.tree import DecisionTreeClassifier\n",
    "from sklearn.svm import SVC\n",
    "from joblib import dump\n",
    "from joblib import load\n",
    "from imblearn.over_sampling import SMOTE\n",
    "from imblearn.over_sampling  import RandomOverSampler"
   ]
  },
  {
   "cell_type": "markdown",
   "id": "24656f54",
   "metadata": {},
   "source": [
    "## Data Preparation"
   ]
  },
  {
   "cell_type": "code",
   "execution_count": 2,
   "id": "76291d14",
   "metadata": {},
   "outputs": [],
   "source": [
    "%%capture\n",
    "all_ratings = pd.read_csv('https://raw.githubusercontent.com/baiyuankok/EEG-Analysis/master/STEW%20Original%20Dataset/ratings.txt', header=None)\n",
    "current_dir = os.listdir('D:\\\\New folder\\\\Semester 7\\\\CAT 400\\\\STEW Features (Classification-Copy3 (for KNN)-Improved)')\n",
    "current_dir"
   ]
  },
  {
   "cell_type": "code",
   "execution_count": 3,
   "id": "06b5c4d8",
   "metadata": {},
   "outputs": [],
   "source": [
    "eeg_data = []\n",
    "ratings_list = []\n",
    "iterator = 1\n",
    "\n",
    "for current_file in current_dir:\n",
    "    if current_file[-3:] == 'csv':\n",
    "        subject = int(current_file[0:2])\n",
    "        rating = all_ratings[all_ratings[0] == subject] \n",
    "        if len(rating)==0:\n",
    "            rating_array = np.array([[0,0,0]])\n",
    "        else:\n",
    "            rating_array = rating.values\n",
    "        \n",
    "        current_file_dataframe = pd.read_csv('D:\\\\New folder\\\\Semester 7\\\\CAT 400\\\\STEW Features (Classification-Copy3 (for KNN)-Improved)\\\\' + current_file, header='infer', index_col=0)\n",
    "        eeg_data_numerical = current_file_dataframe.to_numpy().reshape(1, -1, 70)\n",
    "        current_file_dataframe['subj'] = subject\n",
    "        current_file_dataframe['hilo'] = current_file[3:5]\n",
    "        if current_file[3:5] == 'hi':\n",
    "            current_file_dataframe['subjective_rating'] = rating_array[0][2]\n",
    "            ratings_list.append(rating_array[0][2])\n",
    "        else:\n",
    "            current_file_dataframe['subjective_rating'] = rating_array[0][1]\n",
    "            ratings_list.append(rating_array[0][1])\n",
    "            \n",
    "        if iterator == 1:\n",
    "            X = eeg_data_numerical\n",
    "        else:\n",
    "            X = np.insert(X, len(X), eeg_data_numerical, axis=0)\n",
    "        iterator += 1\n",
    "\n",
    "        y = np.array(ratings_list)"
   ]
  },
  {
   "cell_type": "code",
   "execution_count": 4,
   "id": "7058a4a4",
   "metadata": {},
   "outputs": [
    {
     "data": {
      "text/plain": [
       "((90, 149, 70), (90,))"
      ]
     },
     "execution_count": 4,
     "metadata": {},
     "output_type": "execute_result"
    }
   ],
   "source": [
    "X.shape, y.shape"
   ]
  },
  {
   "cell_type": "markdown",
   "id": "84616be5",
   "metadata": {},
   "source": [
    "## Adjust classification into 5 levels"
   ]
  },
  {
   "cell_type": "code",
   "execution_count": 5,
   "id": "c963ac8f",
   "metadata": {},
   "outputs": [],
   "source": [
    "# 1 = Very Low (1), 2 to 3 = Low (2), 4 to 5 Balanced (3), 6 to 7 High (4), 8 to 9 Very High (5)\n",
    "subjective_ratings_grouped = [ 1 if (i == 1) else 2 if (2 <= i <= 3) else 3 if (4 <= i <= 5) else 4 if (6 <= i <= 7) else 5 for i in y ]"
   ]
  },
  {
   "cell_type": "code",
   "execution_count": 6,
   "id": "0ad2e728",
   "metadata": {
    "scrolled": true
   },
   "outputs": [],
   "source": [
    "y = np.array(subjective_ratings_grouped)"
   ]
  },
  {
   "cell_type": "code",
   "execution_count": 7,
   "id": "3b7f14c8",
   "metadata": {
    "scrolled": true
   },
   "outputs": [
    {
     "data": {
      "text/plain": [
       "(23, 19, 16, 18, 14)"
      ]
     },
     "execution_count": 7,
     "metadata": {},
     "output_type": "execute_result"
    }
   ],
   "source": [
    "list(y).count(1), list(y).count(2), list(y).count(3), list(y).count(4), list(y).count(5)"
   ]
  },
  {
   "cell_type": "markdown",
   "id": "02f6e4e6",
   "metadata": {},
   "source": [
    "## Split Dataset"
   ]
  },
  {
   "cell_type": "code",
   "execution_count": 8,
   "id": "287663df",
   "metadata": {},
   "outputs": [],
   "source": [
    "X_train, X_test, y_train, y_test = train_test_split(X, y, test_size = 0.25, stratify= y, random_state = 4)"
   ]
  },
  {
   "cell_type": "code",
   "execution_count": 9,
   "id": "7af90bef",
   "metadata": {},
   "outputs": [
    {
     "data": {
      "text/plain": [
       "(17, 14, 12, 13, 11)"
      ]
     },
     "execution_count": 9,
     "metadata": {},
     "output_type": "execute_result"
    }
   ],
   "source": [
    "list(y_train).count(1), list(y_train).count(2), list(y_train).count(3), list(y_train).count(4), list(y_train).count(5)"
   ]
  },
  {
   "cell_type": "code",
   "execution_count": 10,
   "id": "5a760b5a",
   "metadata": {},
   "outputs": [
    {
     "data": {
      "text/plain": [
       "(6, 5, 4, 5, 3)"
      ]
     },
     "execution_count": 10,
     "metadata": {},
     "output_type": "execute_result"
    }
   ],
   "source": [
    "list(y_test).count(1), list(y_test).count(2), list(y_test).count(3), list(y_test).count(4), list(y_test).count(5)"
   ]
  },
  {
   "cell_type": "markdown",
   "id": "e1877cfb",
   "metadata": {},
   "source": [
    "## Reshape dataset from 3-dimension to 2-dimension"
   ]
  },
  {
   "cell_type": "code",
   "execution_count": 11,
   "id": "c15a1b85",
   "metadata": {},
   "outputs": [],
   "source": [
    "nsamples, nx, ny = X_train.shape\n",
    "X_train_reshaped = X_train.reshape((nsamples,nx*ny))\n",
    "\n",
    "nsamples, nx, ny = X_test.shape\n",
    "X_test_reshaped = X_test.reshape((nsamples,nx*ny))"
   ]
  },
  {
   "cell_type": "code",
   "execution_count": 14,
   "id": "1a18c85f",
   "metadata": {},
   "outputs": [
    {
     "data": {
      "text/plain": [
       "(17, 14, 12, 13, 11)"
      ]
     },
     "execution_count": 14,
     "metadata": {},
     "output_type": "execute_result"
    }
   ],
   "source": [
    "list(y_train).count(1), list(y_train).count(2), list(y_train).count(3), list(y_train).count(4), list(y_train).count(5)"
   ]
  },
  {
   "cell_type": "code",
   "execution_count": 15,
   "id": "815a3884",
   "metadata": {},
   "outputs": [
    {
     "data": {
      "text/plain": [
       "(67, 10430)"
      ]
     },
     "execution_count": 15,
     "metadata": {},
     "output_type": "execute_result"
    }
   ],
   "source": [
    "X_train_reshaped.shape"
   ]
  },
  {
   "cell_type": "markdown",
   "id": "62bb3e2c",
   "metadata": {},
   "source": [
    "## RandomSearchCV"
   ]
  },
  {
   "cell_type": "code",
   "execution_count": 16,
   "id": "6cebddf1",
   "metadata": {},
   "outputs": [],
   "source": [
    "from sklearn.model_selection import StratifiedKFold, GridSearchCV, RandomizedSearchCV\n",
    "from sklearn.metrics import accuracy_score, recall_score, precision_score, confusion_matrix\n",
    "from matplotlib.colors import ListedColormap\n",
    "import seaborn as sns\n",
    "import warnings; warnings.filterwarnings('ignore')\n",
    "\n",
    "def randomSearchForBestParameter(clf, param_grid, title, X_train, y_train):\n",
    "    # -----------------------------------------------------\n",
    "#     cv = StratifiedKFold(n_splits= 3, shuffle = True, random_state= 123)\n",
    "    n_iter_search = 100\n",
    "    randomSearch = RandomizedSearchCV(clf, \n",
    "                            param_distributions = param_grid,\n",
    "                            n_iter = n_iter_search, \n",
    "                            scoring= 'accuracy')\n",
    "    # -----------------------------------------------------\n",
    "    # Train model\n",
    "    randomSearch.fit(X_train, y_train)  \n",
    "    print(\"The best parameters are %s\" % (randomSearch.best_params_)) \n",
    "    return randomSearch.best_estimator_"
   ]
  },
  {
   "cell_type": "markdown",
   "id": "a825dfc4",
   "metadata": {},
   "source": [
    "## KNN"
   ]
  },
  {
   "cell_type": "code",
   "execution_count": 18,
   "id": "fd831e4c",
   "metadata": {},
   "outputs": [
    {
     "name": "stdout",
     "output_type": "stream",
     "text": [
      "The best parameters are {'weights': 'uniform', 'n_neighbors': 15}\n",
      "Best: \n",
      "{'algorithm': 'auto', 'leaf_size': 30, 'metric': 'minkowski', 'metric_params': None, 'n_jobs': None, 'n_neighbors': 15, 'p': 2, 'weights': 'uniform'}\n",
      "              precision    recall  f1-score   support\n",
      "\n",
      "           1       0.25      0.33      0.29         6\n",
      "           2       0.00      0.00      0.00         5\n",
      "           3       0.12      0.25      0.17         4\n",
      "           4       0.50      0.40      0.44         5\n",
      "           5       0.00      0.00      0.00         3\n",
      "\n",
      "    accuracy                           0.22        23\n",
      "   macro avg       0.17      0.20      0.18        23\n",
      "weighted avg       0.20      0.22      0.20        23\n",
      "\n"
     ]
    },
    {
     "data": {
      "image/png": "[encoded data removed]",
      "text/plain": [
       "<Figure size 432x288 with 2 Axes>"
      ]
     },
     "metadata": {
      "needs_background": "light"
     },
     "output_type": "display_data"
    }
   ],
   "source": [
    "knn_classifier = KNeighborsClassifier()\n",
    "\n",
    "param_grid = {'n_neighbors': [5, 10, 15, 20],\n",
    "             'weights': ['uniform', 'distance']}\n",
    "\n",
    "knn_classifier_best = randomSearchForBestParameter(knn_classifier, param_grid, \"K Neighbour\", X_train_reshaped, y_train)\n",
    "print(\"Best: \")\n",
    "print(knn_classifier_best.get_params())\n",
    "\n",
    "knn_classifier_best.fit(X_train_reshaped, y_train)\n",
    "y_predict = knn_classifier_best.predict(X_test_reshaped)\n",
    "\n",
    "class_names = list(set(y))\n",
    "disp = plot_confusion_matrix(knn_classifier_best, X_test_reshaped, y_test,\n",
    "                                 display_labels=class_names,\n",
    "                                 cmap=plt.cm.Blues)\n",
    "\n",
    "print(classification_report(y_test, y_predict))"
   ]
  },
  {
   "cell_type": "markdown",
   "id": "29764859",
   "metadata": {},
   "source": [
    "## SVM"
   ]
  },
  {
   "cell_type": "markdown",
   "id": "8c7464c1",
   "metadata": {},
   "source": [
    "### RBF"
   ]
  },
  {
   "cell_type": "code",
   "execution_count": 21,
   "id": "d86f5286",
   "metadata": {},
   "outputs": [
    {
     "name": "stdout",
     "output_type": "stream",
     "text": [
      "The best parameters are {'gamma': 0.01, 'class_weight': 'balanced', 'C': 10.0}\n",
      "Best: \n",
      "{'C': 10.0, 'break_ties': False, 'cache_size': 200, 'class_weight': 'balanced', 'coef0': 0.0, 'decision_function_shape': 'ovr', 'degree': 3, 'gamma': 0.01, 'kernel': 'rbf', 'max_iter': -1, 'probability': True, 'random_state': None, 'shrinking': True, 'tol': 0.001, 'verbose': False}\n",
      "              precision    recall  f1-score   support\n",
      "\n",
      "           1       0.28      0.83      0.42         6\n",
      "           2       0.00      0.00      0.00         5\n",
      "           3       0.00      0.00      0.00         4\n",
      "           4       0.50      0.20      0.29         5\n",
      "           5       0.00      0.00      0.00         3\n",
      "\n",
      "    accuracy                           0.26        23\n",
      "   macro avg       0.16      0.21      0.14        23\n",
      "weighted avg       0.18      0.26      0.17        23\n",
      "\n"
     ]
    },
    {
     "data": {
      "image/png": "[encoded data removed]",
      "text/plain": [
       "<Figure size 432x288 with 2 Axes>"
      ]
     },
     "metadata": {
      "needs_background": "light"
     },
     "output_type": "display_data"
    }
   ],
   "source": [
    "svm_rbf = SVC(kernel=\"rbf\", probability=True)\n",
    "\n",
    "param_grid = {'gamma': np.logspace(-2, 2, 5),\n",
    "              'C': np.logspace(-2, 2, 5),\n",
    "             'class_weight': ['balanced']}\n",
    "\n",
    "svm_rbf_best = randomSearchForBestParameter(svm_rbf, param_grid, \"RBF SVM\", X_train_reshaped, y_train)\n",
    "print(\"Best: \")\n",
    "print(svm_rbf_best.get_params())\n",
    "\n",
    "svm_rbf_best.fit(X_train_reshaped, y_train)\n",
    "y_predict = svm_rbf_best.predict(X_test_reshaped)\n",
    "\n",
    "class_names = list(set(y))\n",
    "disp = plot_confusion_matrix(svm_rbf_best, X_test_reshaped, y_test,\n",
    "                                 display_labels=class_names,\n",
    "                                 cmap=plt.cm.Blues)\n",
    "\n",
    "print(classification_report(y_test, y_predict))"
   ]
  },
  {
   "cell_type": "markdown",
   "id": "a3737b05",
   "metadata": {},
   "source": [
    "## Random Forest"
   ]
  },
  {
   "cell_type": "code",
   "execution_count": 17,
   "id": "ad56dd58",
   "metadata": {},
   "outputs": [
    {
     "name": "stdout",
     "output_type": "stream",
     "text": [
      "The best parameters are {'random_state': 42, 'n_estimators': 350, 'min_samples_split': 5, 'min_samples_leaf': 4, 'max_features': 'auto', 'bootstrap': True}\n",
      "Best: \n",
      "{'bootstrap': True, 'ccp_alpha': 0.0, 'class_weight': None, 'criterion': 'gini', 'max_depth': None, 'max_features': 'auto', 'max_leaf_nodes': None, 'max_samples': None, 'min_impurity_decrease': 0.0, 'min_samples_leaf': 4, 'min_samples_split': 5, 'min_weight_fraction_leaf': 0.0, 'n_estimators': 350, 'n_jobs': None, 'oob_score': False, 'random_state': 42, 'verbose': 0, 'warm_start': False}\n",
      "              precision    recall  f1-score   support\n",
      "\n",
      "           1       0.38      0.83      0.53         6\n",
      "           2       0.00      0.00      0.00         5\n",
      "           3       0.00      0.00      0.00         4\n",
      "           4       0.75      0.60      0.67         5\n",
      "           5       0.00      0.00      0.00         3\n",
      "\n",
      "    accuracy                           0.35        23\n",
      "   macro avg       0.23      0.29      0.24        23\n",
      "weighted avg       0.26      0.35      0.28        23\n",
      "\n"
     ]
    },
    {
     "data": {
      "image/png": "[encoded data removed]",
      "text/plain": [
       "<Figure size 432x288 with 2 Axes>"
      ]
     },
     "metadata": {
      "needs_background": "light"
     },
     "output_type": "display_data"
    }
   ],
   "source": [
    "rf = RandomForestClassifier()\n",
    "\n",
    "param_grid = {'bootstrap': [True],\n",
    "             'max_features': ['auto'],\n",
    "             'min_samples_leaf': [4],\n",
    "             'min_samples_split': [5],\n",
    "             'n_estimators': range(50, 800, 50),\n",
    "             'random_state': [42]}\n",
    "\n",
    "rf_best = randomSearchForBestParameter(rf, param_grid, \"Random Forest\", X_train_reshaped, y_train)\n",
    "print(\"Best: \")\n",
    "print(rf_best.get_params())\n",
    "rf_best.fit(X_train_reshaped, y_train)\n",
    "y_predict = rf_best.predict(X_test_reshaped)\n",
    "\n",
    "class_names = list(set(y))\n",
    "disp = plot_confusion_matrix(rf_best, X_test_reshaped, y_test,\n",
    "                                 display_labels=class_names,\n",
    "                                 cmap=plt.cm.Blues)\n",
    "\n",
    "print(classification_report(y_test, y_predict))"
   ]
  }
 ],
 "metadata": {
  "kernelspec": {
   "display_name": "Python 3 (ipykernel)",
   "language": "python",
   "name": "python3"
  },
  "language_info": {
   "codemirror_mode": {
    "name": "ipython",
    "version": 3
   },
   "file_extension": ".py",
   "mimetype": "text/x-python",
   "name": "python",
   "nbconvert_exporter": "python",
   "pygments_lexer": "ipython3",
   "version": "3.9.7"
  }
 },
 "nbformat": 4,
 "nbformat_minor": 5
}
