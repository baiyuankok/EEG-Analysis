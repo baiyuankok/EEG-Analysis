{
 "cells": [
  {
   "cell_type": "code",
   "execution_count": 1,
   "id": "d5cb1eeb",
   "metadata": {},
   "outputs": [],
   "source": [
    "%%capture\n",
    "import numpy as np\n",
    "import pandas as pd\n",
    "import matplotlib.pyplot as plt\n",
    "from collections import deque\n",
    "import matplotlib\n",
    "import yasa\n",
    "from scipy.signal import welch\n",
    "\n",
    "# !pip install mne\n",
    "import mne\n",
    "from mne.preprocessing import ICA\n",
    "from mne.baseline import rescale\n",
    "from mne.stats import bootstrap_confidence_interval\n",
    "\n",
    "# !pip install pyeeg\n",
    "# !pip install git+https://github.com/forrestbao/pyeeg.git\n",
    "import pyeeg\n",
    "%matplotlib qt"
   ]
  },
  {
   "cell_type": "code",
   "execution_count": 2,
   "id": "c478ad04",
   "metadata": {},
   "outputs": [],
   "source": [
    "# channels = [\"AF3\", \"F7\", \"F3\", \"FC5\", \"T7\", \"P7\", \"O1\", \"O2\", \"P8\", \"T8\", \"FC6\", \"F4\", \"F8\", \"AF4\"]   \n",
    "\n",
    "# URL = \"https://raw.githubusercontent.com/baiyuankok/EEG-Analysis/master/STEW%20Original%20Dataset/Preprocessed/export_dataframe.csv\"\n",
    "\n",
    "# eegData = pd.read_csv(URL)\n",
    "# eegData.drop(eegData.columns[[0]], axis = 1, inplace=True)\n",
    "\n",
    "\n",
    "# sampling_freq = 128  # Hz\n",
    "# info = mne.create_info(ch_names=channels, sfreq=sampling_freq, ch_types='eeg')\n",
    "# raw = mne.io.RawArray(eegData.transpose(), info)\n",
    "# raw.plot(n_channels=14, scalings='auto')"
   ]
  },
  {
   "cell_type": "code",
   "execution_count": 3,
   "id": "c364feb8",
   "metadata": {},
   "outputs": [
    {
     "name": "stdout",
     "output_type": "stream",
     "text": [
      "Reading D:\\New folder\\Semester 7\\CAT 400\\STEW Epochs\\01_hi_epo.fif ...\n",
      "    Found the data of interest:\n",
      "        t =       0.00 ...    1000.00 ms\n",
      "        0 CTF compensation matrices available\n",
      "Not setting metadata\n",
      "Not setting metadata\n",
      "54 matching events found\n",
      "No baseline correction applied\n",
      "0 projection items activated\n"
     ]
    }
   ],
   "source": [
    "# path = \"D:\\New folder\\Semester 7\\CAT 400\\STEW Original Dataset\\Preprocessed\\prerprocessed.fif\"\n",
    "epoch = mne.read_epochs(r\"D:\\New folder\\Semester 7\\CAT 400\\STEW Epochs\\01_hi_epo.fif\", proj=True, preload=True, verbose=None)"
   ]
  },
  {
   "cell_type": "code",
   "execution_count": 4,
   "id": "7a88a442",
   "metadata": {},
   "outputs": [
    {
     "data": {
      "text/plain": [
       "(54, 14, 129)"
      ]
     },
     "execution_count": 4,
     "metadata": {},
     "output_type": "execute_result"
    }
   ],
   "source": [
    "epoch.get_data().shape"
   ]
  },
  {
   "cell_type": "code",
   "execution_count": 5,
   "id": "d91145d3",
   "metadata": {},
   "outputs": [],
   "source": [
    "# epoch.plot(n_channels=14,\n",
    "#                        # group_by='position',\n",
    "#                        scalings='auto')"
   ]
  },
  {
   "cell_type": "code",
   "execution_count": 6,
   "id": "30de5773",
   "metadata": {},
   "outputs": [],
   "source": [
    "# print(epoch.info)"
   ]
  },
  {
   "cell_type": "code",
   "execution_count": 7,
   "id": "1afadb7e",
   "metadata": {},
   "outputs": [],
   "source": [
    "# fs = 128\n",
    "# # band = [1,4,8,12,30]\n",
    "# band = [4,8,12,16,25,45] #5 bands\n",
    "\n",
    "# for channel in epoch:\n",
    "#     print(channel)\n",
    "#     resp = pyeeg.bin_power(channel,band,fs)\n",
    "#     print(resp)"
   ]
  },
  {
   "cell_type": "code",
   "execution_count": 8,
   "id": "260719eb",
   "metadata": {},
   "outputs": [],
   "source": [
    "# frequency_map = list()\n",
    "# iter_freqs = [\n",
    "#     ('Theta', 4, 7),\n",
    "#     ('Alpha', 8, 12),\n",
    "#     ('Beta', 13, 25),\n",
    "#     ('Gamma', 30, 45)\n",
    "# ]\n",
    "\n",
    "# for band, fmin, fmax in iter_freqs:\n",
    "#     epoch.subtract_evoked()\n",
    "#     # get analytic signal (envelope)\n",
    "#     epoch.apply_hilbert(envelope=True)\n",
    "#     frequency_map.append(((band, fmin, fmax), epoch.average()))"
   ]
  },
  {
   "cell_type": "code",
   "execution_count": 9,
   "id": "65e7c71c",
   "metadata": {
    "scrolled": true
   },
   "outputs": [],
   "source": [
    "# # Helper function for plotting spread\n",
    "# def stat_fun(x):\n",
    "#     \"\"\"Return sum of squares.\"\"\"\n",
    "#     return np.sum(x ** 2, axis=0)\n",
    "\n",
    "\n",
    "# # Plot\n",
    "# fig, axes = plt.subplots(4, 1, figsize=(10, 7), sharex=True, sharey=True)\n",
    "# colors = plt.get_cmap('winter_r')(np.linspace(0, 1, 4))\n",
    "# for ((freq_name, fmin, fmax), average), color, ax in zip(\n",
    "#         frequency_map, colors, axes.ravel()[::-1]):\n",
    "#     times = average.times * 1e3\n",
    "#     gfp = np.sum(average.data ** 2, axis=0)\n",
    "#     gfp = mne.baseline.rescale(gfp, times, baseline=(None, 0))\n",
    "#     ax.plot(times, gfp, label=freq_name, color=color, linewidth=2.5)\n",
    "#     ax.axhline(0, linestyle='--', color='grey', linewidth=2)\n",
    "#     ci_low, ci_up = bootstrap_confidence_interval(average.data, random_state=0,\n",
    "#                                                   stat_fun=stat_fun)\n",
    "#     ci_low = rescale(ci_low, average.times, baseline=(None, 0))\n",
    "#     ci_up = rescale(ci_up, average.times, baseline=(None, 0))\n",
    "#     ax.fill_between(times, gfp + ci_up, gfp - ci_low, color=color, alpha=0.3)\n",
    "#     ax.grid(True)\n",
    "#     ax.set_ylabel('GFP')\n",
    "#     ax.annotate('%s (%d-%dHz)' % (freq_name, fmin, fmax),\n",
    "#                 xy=(0.95, 0.8),\n",
    "#                 horizontalalignment='right',\n",
    "#                 xycoords='axes fraction')\n",
    "#     ax.set_xlim(-1000, 3000)\n",
    "\n",
    "# axes.ravel()[-1].set_xlabel('Time [ms]')"
   ]
  },
  {
   "cell_type": "markdown",
   "id": "a10d90ef",
   "metadata": {},
   "source": [
    "YASA"
   ]
  },
  {
   "cell_type": "code",
   "execution_count": 10,
   "id": "6fc3785f",
   "metadata": {},
   "outputs": [
    {
     "name": "stderr",
     "output_type": "stream",
     "text": [
      "C:\\Users\\MyAsus\\anaconda3\\lib\\site-packages\\scipy\\signal\\spectral.py:1964: UserWarning: nperseg = 512 is greater than input length  = 129, using nperseg = 129\n",
      "  warnings.warn('nperseg = {0:d} is greater than input length '\n"
     ]
    },
    {
     "data": {
      "text/plain": [
       "((65,), (54, 14, 65))"
      ]
     },
     "execution_count": 10,
     "metadata": {},
     "output_type": "execute_result"
    }
   ],
   "source": [
    "data = epoch.get_data()\n",
    "sf = epoch.info['sfreq']\n",
    "\n",
    "win = int(4 * sf)  # Window size is set to 4 seconds\n",
    "freqs, psd = welch(data, sf, nperseg=win, axis=-1) \n",
    "\n",
    "freqs.shape, psd.shape"
   ]
  },
  {
   "cell_type": "code",
   "execution_count": 11,
   "id": "473d6d87",
   "metadata": {},
   "outputs": [
    {
     "data": {
      "text/plain": [
       "array([[[7.54600e+00, 4.52720e+01, 5.67100e+00, ..., 4.29844e+02,\n",
       "         9.10730e+01, 3.75030e+01],\n",
       "        [1.94480e+01, 8.23508e+02, 1.93580e+01, ..., 4.37273e+02,\n",
       "         5.44753e+02, 1.96862e+02],\n",
       "        [7.45900e+00, 7.75540e+01, 1.40110e+01, ..., 6.00600e+01,\n",
       "         6.58800e+01, 8.80700e+00],\n",
       "        ...,\n",
       "        [2.49350e+01, 3.10463e+02, 4.89500e+00, ..., 1.56874e+02,\n",
       "         2.03440e+01, 1.78890e+01],\n",
       "        [3.51470e+01, 1.78157e+02, 1.11150e+01, ..., 1.12379e+02,\n",
       "         1.05240e+01, 6.28060e+01],\n",
       "        [6.98700e+00, 2.53249e+02, 8.25200e+00, ..., 3.89940e+01,\n",
       "         2.41450e+01, 6.84800e+00]],\n",
       "\n",
       "       [[3.82200e+00, 1.10550e+01, 2.19200e+00, ..., 5.86500e+00,\n",
       "         1.58590e+01, 1.02450e+01],\n",
       "        [2.06980e+01, 9.84460e+01, 1.76680e+01, ..., 1.89290e+01,\n",
       "         3.49670e+01, 1.45970e+01],\n",
       "        [4.84600e+00, 3.35000e+00, 1.88600e+00, ..., 1.12280e+01,\n",
       "         3.74300e+00, 2.14100e+00],\n",
       "        ...,\n",
       "        [5.35200e+00, 4.10030e+01, 2.08400e+00, ..., 4.88800e+00,\n",
       "         4.81300e+00, 8.75900e+00],\n",
       "        [1.74080e+01, 3.29000e+00, 2.30200e+00, ..., 1.15000e+00,\n",
       "         5.71700e+00, 2.18960e+01],\n",
       "        [2.65800e+00, 3.28010e+01, 1.31700e+00, ..., 3.63800e+00,\n",
       "         6.36300e+00, 1.90800e+00]],\n",
       "\n",
       "       [[5.07400e+00, 7.06400e+00, 1.04800e+00, ..., 2.44100e+00,\n",
       "         1.42300e+00, 6.09000e-01],\n",
       "        [7.04500e+00, 3.59480e+01, 6.36000e-01, ..., 2.98400e+00,\n",
       "         6.98400e+00, 4.43700e+00],\n",
       "        [1.75200e+00, 1.83600e+00, 1.43600e+00, ..., 1.61900e+00,\n",
       "         6.23700e+00, 1.67400e+00],\n",
       "        ...,\n",
       "        [4.90900e+00, 7.53600e+00, 1.56000e+00, ..., 1.36300e+00,\n",
       "         6.82500e+00, 3.50900e+00],\n",
       "        [3.90800e+00, 5.76000e-01, 2.45500e+00, ..., 6.76000e-01,\n",
       "         2.78600e+00, 3.56800e+00],\n",
       "        [1.35700e+00, 2.13100e+00, 1.87700e+00, ..., 5.66000e-01,\n",
       "         7.98000e-01, 7.34000e-01]],\n",
       "\n",
       "       [[3.74100e+00, 1.09640e+01, 3.06000e-01, ..., 5.50000e-01,\n",
       "         9.95000e-01, 1.60500e+00],\n",
       "        [6.04500e+00, 1.65290e+01, 9.92000e-01, ..., 8.68000e-01,\n",
       "         2.54100e+00, 1.84300e+00],\n",
       "        [2.89400e+00, 1.76000e+00, 6.98000e-01, ..., 2.57200e+00,\n",
       "         1.48600e+00, 8.40000e-01],\n",
       "        ...,\n",
       "        [1.78400e+00, 8.36000e-01, 3.17000e-01, ..., 5.17000e-01,\n",
       "         3.42200e+00, 1.54000e+00],\n",
       "        [1.52300e+00, 8.70000e-01, 7.80000e-01, ..., 9.76000e-01,\n",
       "         5.60000e-01, 2.41000e+00],\n",
       "        [5.90000e-01, 5.72000e-01, 2.97000e-01, ..., 4.87000e-01,\n",
       "         1.57300e+00, 1.28800e+00]],\n",
       "\n",
       "       [[3.46100e+00, 1.40810e+01, 2.61600e+00, ..., 3.91700e+00,\n",
       "         3.62300e+00, 9.25700e+00],\n",
       "        [3.06400e+00, 1.90400e+01, 3.18200e+00, ..., 8.60300e+00,\n",
       "         8.90600e+00, 7.76300e+00],\n",
       "        [5.57400e+00, 3.04100e+00, 5.46800e+00, ..., 8.42100e+00,\n",
       "         7.02800e+00, 2.08300e+01],\n",
       "        ...,\n",
       "        [3.52500e+00, 2.21200e+00, 4.50200e+00, ..., 1.81800e+00,\n",
       "         6.09400e+00, 3.23800e+00],\n",
       "        [2.92200e+00, 1.58900e+00, 1.89100e+00, ..., 1.97400e+00,\n",
       "         4.76000e+00, 3.40500e+00],\n",
       "        [2.64500e+00, 2.91400e+00, 3.57300e+00, ..., 1.44700e+00,\n",
       "         4.23000e+00, 1.71300e+00]]])"
      ]
     },
     "execution_count": 11,
     "metadata": {},
     "output_type": "execute_result"
    }
   ],
   "source": [
    "bands=[(0.5, 4, 'Delta'), (4, 8, 'Theta'), (8, 12, 'Alpha'), \n",
    "       (12, 16, 'Sigma'), (16, 30, 'Beta')]\n",
    "\n",
    "# Calculate the bandpower on 3-D PSD array\n",
    "bandpower = yasa.bandpower_from_psd_ndarray(psd, freqs, bands, False)\n",
    "np.round(bandpower, 3)"
   ]
  },
  {
   "cell_type": "code",
   "execution_count": 14,
   "id": "99ded802",
   "metadata": {},
   "outputs": [
    {
     "data": {
      "text/plain": [
       "(5, 54, 14)"
      ]
     },
     "execution_count": 14,
     "metadata": {},
     "output_type": "execute_result"
    }
   ],
   "source": [
    "bandpower.shape"
   ]
  },
  {
   "cell_type": "code",
   "execution_count": 15,
   "id": "fc9f4738",
   "metadata": {},
   "outputs": [],
   "source": [
    "# # pd.DataFrame(bandpower.transpose(1,0,2).reshape(17,-1)).to_csv(r\"D:\\New folder\\Semester 7\\CAT 400\\STEW Original Dataset\\Preprocessed\\testing3.csv\")\n",
    "\n",
    "# #correct one\n",
    "pd.DataFrame(bandpower.transpose(1,2,0).reshape(54,-1)).to_csv(\n",
    "    r\"D:\\New folder\\Semester 7\\CAT 400\\STEW Original Dataset\\Preprocessed\\testing7.csv\", \n",
    "   header=['AF3_Delta', 'AF3_Theta', 'AF3_Alpha', 'AF3_Beta','AF3_Gamma', \n",
    "           'F7_Delta', 'F7_Theta', 'F7_Alpha', 'F7_Beta', 'F7_Gamma',\n",
    "           'F3_Delta', 'F3_Theta', 'F3_Alpha', 'F3_Beta', 'F3_Gamma', \n",
    "           'FC5_Delta', 'FC5_Theta', 'FC5_Alpha', 'FC5_Beta', 'FC5_Gamma',\n",
    "           'T7_Delta', 'T7_Theta', 'T7_Alpha', 'T7_Beta', 'T7_Gamma',\n",
    "           'P7_Delta', 'P7_Theta', 'P7_Alpha', 'P7_Beta', 'P7_Gamma', \n",
    "           'O1_Delta', 'O1_Theta', 'O1_Alpha', 'O1_Beta', 'O1_Gamma', \n",
    "           'O2_Delta', 'O2_Theta', 'O2_Alpha', 'O2_Beta', 'O2_Gamma', \n",
    "           'P8_Delta', 'P8_Theta', 'P8_Alpha', 'P8_Beta', 'P8_Gamma',\n",
    "           'T8_Delta', 'T8_Theta', 'T8_Alpha', 'T8_Beta', 'T8_Gamma',\n",
    "           'FC6_Delta', 'FC6_Theta', 'FC6_Alpha', 'FC6_Beta', 'FC6_Gamma', \n",
    "           'F4_Delta', 'F4_Theta', 'F4_Alpha', 'F4_Beta', 'F4_Gamma', \n",
    "           'F8_Delta', 'F8_Theta', 'F8_Alpha', 'F8_Beta', 'F8_Gamma',\n",
    "           'AF4_Delta', 'AF4_Theta', 'AF4_Alpha', 'AF4_Beta', 'AF4_Gamma'])\n"
   ]
  },
  {
   "cell_type": "code",
   "execution_count": null,
   "id": "354aadd1",
   "metadata": {},
   "outputs": [],
   "source": []
  }
 ],
 "metadata": {
  "kernelspec": {
   "display_name": "Python 3 (ipykernel)",
   "language": "python",
   "name": "python3"
  },
  "language_info": {
   "codemirror_mode": {
    "name": "ipython",
    "version": 3
   },
   "file_extension": ".py",
   "mimetype": "text/x-python",
   "name": "python",
   "nbconvert_exporter": "python",
   "pygments_lexer": "ipython3",
   "version": "3.9.7"
  }
 },
 "nbformat": 4,
 "nbformat_minor": 5
}
