{
 "cells": [
  {
   "cell_type": "code",
   "execution_count": 1,
   "id": "7dd6581a",
   "metadata": {},
   "outputs": [],
   "source": [
    "%%capture\n",
    "import numpy as np\n",
    "import pandas as pd\n",
    "import matplotlib.pyplot as plt\n",
    "from collections import deque\n",
    "import matplotlib\n",
    "\n",
    "import mne\n",
    "from mne.preprocessing import ICA\n",
    "\n",
    "from meeg_tools.preprocessing import *\n",
    "from meeg_tools.utils.epochs import create_epochs\n",
    "from meeg_tools.utils.raw import read_raw_measurement, filter_raw\n",
    "from meeg_tools.utils.log import update_log\n",
    "\n",
    "# !pip install git+https://github.com/nbara/python-meegkit.git\n",
    "from meegkit.asr import ASR\n",
    "from meegkit.utils.matrix import sliding_window"
   ]
  },
  {
   "cell_type": "code",
   "execution_count": 2,
   "id": "fc78bf8e",
   "metadata": {},
   "outputs": [],
   "source": [
    "# !pip list"
   ]
  },
  {
   "cell_type": "code",
   "execution_count": 3,
   "id": "6bbb67f6",
   "metadata": {},
   "outputs": [],
   "source": [
    "%matplotlib qt"
   ]
  },
  {
   "cell_type": "markdown",
   "id": "8c61cc8e",
   "metadata": {},
   "source": [
    "Preprocessing"
   ]
  },
  {
   "cell_type": "code",
   "execution_count": 4,
   "id": "d8597192",
   "metadata": {},
   "outputs": [],
   "source": [
    "channels = [\"AF3\", \"F7\", \"F3\", \"FC5\", \"T7\", \"P7\", \"O1\", \"O2\", \"P8\", \"T8\", \"FC6\", \"F4\", \"F8\", \"AF4\"]"
   ]
  },
  {
   "cell_type": "code",
   "execution_count": 5,
   "id": "a82b65f1",
   "metadata": {},
   "outputs": [],
   "source": [
    "def dataframe_to_raw(url):\n",
    "    eegData = pd.read_csv(URL, sep=\"  \", header=None, engine='python')\n",
    "    eegData.columns = channels\n",
    "    sampling_freq = 128  # Hz\n",
    "    info = mne.create_info(ch_names=channels, sfreq=sampling_freq, ch_types='eeg')\n",
    "    raw = mne.io.RawArray(eegData.transpose(), info)\n",
    "    montage = mne.channels.make_standard_montage('standard_1020')\n",
    "    raw.set_montage(montage)\n",
    "    return raw"
   ]
  },
  {
   "cell_type": "code",
   "execution_count": 6,
   "id": "f29b5f43",
   "metadata": {},
   "outputs": [],
   "source": [
    "def prepare_epochs(raw):\n",
    "    settings['epochs']\n",
    "    epochs = create_epochs(raw=raw)\n",
    "    epochs = epochs.copy().load_data().pick_channels(channels, ordered=True)\n",
    "    # Preliminary epoch rejection\n",
    "    epochs_faster = prepare_epochs_for_ica(epochs=epochs)\n",
    "    return epochs_faster"
   ]
  },
  {
   "cell_type": "code",
   "execution_count": 7,
   "id": "15cd66bc",
   "metadata": {},
   "outputs": [],
   "source": [
    "def prepare_epochs_autoreject(epochs_faster):\n",
    "    reject_log = run_autoreject(epochs_faster, n_jobs=11, subset=False)\n",
    "    # reject_log.plot_epochs(epochs_faster, scalings='auto');\n",
    "    epochs_autoreject = epochs_faster.copy().drop(reject_log.report, reason='AUTOREJECT')\n",
    "    # epochs_autoreject.plot(n_epochs=10, n_channels=14, scalings='auto')\n",
    "    return epochs_autoreject"
   ]
  },
  {
   "cell_type": "code",
   "execution_count": 16,
   "id": "00f7e0ea",
   "metadata": {},
   "outputs": [],
   "source": [
    "# def perform_ASR(raw, sfreq):\n",
    "#     print(raw.shape)\n",
    "#     # Train on a clean portion of data\n",
    "#     asr = ASR(method='euclid')\n",
    "#     train_idx = np.arange(0 * sfreq, 150 * sfreq, dtype=int)\n",
    "#     _, sample_mask = asr.fit(raw[:, train_idx])\n",
    "\n",
    "#     # Apply filter using sliding (non-overlapping) windows\n",
    "#     X = sliding_window(raw, window=int(sfreq), step=int(sfreq))\n",
    "\n",
    "#     Y = np.zeros_like(X)\n",
    "#     for i in range(X.shape[1]):\n",
    "#         print(\"Iteration \" + str(i) + \":\")\n",
    "#         print(X[:, i, :])\n",
    "#         print(\"X shape = \")\n",
    "#         print(X[:, i, :].shape)\n",
    "#         Y[:, i, :] = asr.transform(X[:, i, :])\n",
    "#         print(\"Y = \")\n",
    "#         print(Y[:, i, :])\n",
    "#         print(\"DONE!!!!!\")\n",
    "\n",
    "#     raw = X.reshape(8, -1)  # reshape to (n_chans, n_times)\n",
    "#     clean = Y.reshape(8, -1)\n",
    "#     return clean"
   ]
  },
  {
   "cell_type": "code",
   "execution_count": 17,
   "id": "5677bba0",
   "metadata": {
    "scrolled": false
   },
   "outputs": [
    {
     "name": "stdout",
     "output_type": "stream",
     "text": [
      "1_lo\n",
      "sub1:\n",
      "https://raw.githubusercontent.com/baiyuankok/EEG-Analysis/master/STEW%20Original%20Dataset/sub01_lo.txt\n",
      "Creating RawArray with float64 data, n_channels=14, n_times=19200\n",
      "    Range : 0 ... 19199 =      0.000 ...   149.992 secs\n",
      "Ready.\n",
      "(14, 19200)\n",
      "Iteration 0:\n",
      "[[4.64564e+09 4.64359e+09 4.65231e+09 ... 4.65077e+09 4.64667e+09\n",
      "  4.64564e+09]\n",
      " [4.18667e+09 4.18769e+09 4.19179e+09 ... 4.07538e+09 4.07385e+09\n",
      "  4.08308e+09]\n",
      " [4.55487e+09 4.55436e+09 4.55641e+09 ... 4.55487e+09 4.55179e+09\n",
      "  4.55077e+09]\n",
      " ...\n",
      " [4.47744e+09 4.46718e+09 4.45846e+09 ... 4.60718e+09 4.60154e+09\n",
      "  4.60051e+09]\n",
      " [4.61538e+09 4.61795e+09 4.61795e+09 ... 4.60205e+09 4.59436e+09\n",
      "  4.58667e+09]\n",
      " [4.27436e+09 4.28718e+09 4.29436e+09 ... 4.27231e+09 4.27333e+09\n",
      "  4.26667e+09]]\n",
      "X shape = \n",
      "(14, 128)\n",
      "Y = \n",
      "[[-23063939.4695799  -22470744.74124618 -20217277.18016026 ...\n",
      "  -15953532.28787322 -16709072.73611377 -19247729.23440339]\n",
      " [ 80594227.87971848  83938889.70786573  82351642.77139202 ...\n",
      "  -28954024.93451658 -27542608.10570039 -19639455.55124322]\n",
      " [ -6891981.07128584  -4819331.71578792  -9087740.89564936 ...\n",
      "   -4956937.36200798  -4769086.44915243  -7263185.45941798]\n",
      " ...\n",
      " [-40896765.57799673 -48598701.48259634 -63576963.22790359 ...\n",
      "   90759857.68531752  88356600.63360333  85866534.15450604]\n",
      " [ -3773214.92470924   1411926.5760905   -4985974.10296175 ...\n",
      "  -15143826.5550788  -19524863.02023161 -28707507.57526191]\n",
      " [-31273312.64541478 -16015670.97404693 -14799321.23914759 ...\n",
      "  -31496915.58860349 -27392544.28437227 -35443877.24542236]]\n",
      "DONE!!!!!\n",
      "Iteration 1:\n",
      "[[4.64103e+09 4.63487e+09 4.62667e+09 ... 4.64821e+09 4.64872e+09\n",
      "  4.64923e+09]\n",
      " [4.09692e+09 4.10974e+09 4.13128e+09 ... 4.15846e+09 4.17077e+09\n",
      "  4.17641e+09]\n",
      " [4.54821e+09 4.53641e+09 4.52513e+09 ... 4.55487e+09 4.55282e+09\n",
      "  4.55590e+09]\n",
      " ...\n",
      " [4.60513e+09 4.60205e+09 4.58923e+09 ... 4.70974e+09 4.70103e+09\n",
      "  4.70256e+09]\n",
      " [4.58821e+09 4.58667e+09 4.57333e+09 ... 4.53333e+09 4.52923e+09\n",
      "  4.53487e+09]\n",
      " [4.25949e+09 4.25744e+09 4.24667e+09 ... 4.26462e+09 4.26564e+09\n",
      "  4.26308e+09]]\n",
      "X shape = \n",
      "(14, 128)\n",
      "Y = \n",
      "[[-24876862.23678618 -28885414.49568608 -34682641.44382536 ...\n",
      "  -17621093.3355062  -15012070.34996682 -15496015.52183488]\n",
      " [ -6695772.2558157    8015706.44617569  31666831.22814508 ...\n",
      "   50278868.50724685  64433525.89561412  69196275.79034719]\n",
      " [-10818974.0646065  -20517419.88913628 -29451520.12432141 ...\n",
      "   -8154377.527946    -8154674.80291587  -6048563.58772403]\n",
      " ...\n",
      " [ 89500224.85466917  88486509.12849274  77944324.11568621 ...\n",
      "   88689489.29971227  81978769.16378935  82476556.42860104]\n",
      " [-28175824.13279604 -27584192.20346451 -38537873.62658282 ...\n",
      "  -62917887.31272765 -64935029.84635634 -60265059.97145135]\n",
      " [-43563755.43473823 -43627827.87896606 -52176542.01768181 ...\n",
      "  -26457426.484878   -23498010.69311636 -26966727.76592754]]\n",
      "DONE!!!!!\n",
      "Iteration 2:\n",
      "[[4.64923e+09 4.64821e+09 4.65026e+09 ... 4.66205e+09 4.65436e+09\n",
      "  4.64718e+09]\n",
      " [4.17333e+09 4.16974e+09 4.16205e+09 ... 4.13077e+09 4.13846e+09\n",
      "  4.14000e+09]\n",
      " [4.55385e+09 4.55128e+09 4.55949e+09 ... 4.55385e+09 4.54564e+09\n",
      "  4.53846e+09]\n",
      " ...\n",
      " [4.69744e+09 4.68462e+09 4.68718e+09 ... 4.44462e+09 4.44308e+09\n",
      "  4.43897e+09]\n",
      " [4.53385e+09 4.52821e+09 4.53436e+09 ... 4.52308e+09 4.51949e+09\n",
      "  4.51897e+09]\n",
      " [4.26256e+09 4.27436e+09 4.28462e+09 ... 4.30205e+09 4.27949e+09\n",
      "  4.27897e+09]]\n",
      "X shape = \n",
      "(14, 128)\n",
      "Geometric median could converge in 500 iterations with a tolerance of 1e-05\n"
     ]
    },
    {
     "ename": "AttributeError",
     "evalue": "'NoneType' object has no attribute 'reshape'",
     "output_type": "error",
     "traceback": [
      "\u001b[1;31m---------------------------------------------------------------------------\u001b[0m",
      "\u001b[1;31mAttributeError\u001b[0m                            Traceback (most recent call last)",
      "\u001b[1;32m~\\AppData\\Local\\Temp/ipykernel_18384/2165978040.py\u001b[0m in \u001b[0;36m<module>\u001b[1;34m\u001b[0m\n\u001b[0;32m     30\u001b[0m \u001b[1;33m\u001b[0m\u001b[0m\n\u001b[0;32m     31\u001b[0m \u001b[1;33m\u001b[0m\u001b[0m\n\u001b[1;32m---> 32\u001b[1;33m         \u001b[0mclean_data\u001b[0m \u001b[1;33m=\u001b[0m \u001b[0mperform_ASR\u001b[0m\u001b[1;33m(\u001b[0m\u001b[0mnumpyarray\u001b[0m\u001b[1;33m,\u001b[0m \u001b[1;36m128\u001b[0m\u001b[1;33m)\u001b[0m\u001b[1;33m\u001b[0m\u001b[1;33m\u001b[0m\u001b[0m\n\u001b[0m\u001b[0;32m     33\u001b[0m \u001b[1;31m#         clean.plot(n_channels=14, scalings='auto')\u001b[0m\u001b[1;33m\u001b[0m\u001b[1;33m\u001b[0m\u001b[0m\n\u001b[0;32m     34\u001b[0m \u001b[1;33m\u001b[0m\u001b[0m\n",
      "\u001b[1;32m~\\AppData\\Local\\Temp/ipykernel_18384/2498700027.py\u001b[0m in \u001b[0;36mperform_ASR\u001b[1;34m(raw, sfreq)\u001b[0m\n\u001b[0;32m     15\u001b[0m         \u001b[0mprint\u001b[0m\u001b[1;33m(\u001b[0m\u001b[1;34m\"X shape = \"\u001b[0m\u001b[1;33m)\u001b[0m\u001b[1;33m\u001b[0m\u001b[1;33m\u001b[0m\u001b[0m\n\u001b[0;32m     16\u001b[0m         \u001b[0mprint\u001b[0m\u001b[1;33m(\u001b[0m\u001b[0mX\u001b[0m\u001b[1;33m[\u001b[0m\u001b[1;33m:\u001b[0m\u001b[1;33m,\u001b[0m \u001b[0mi\u001b[0m\u001b[1;33m,\u001b[0m \u001b[1;33m:\u001b[0m\u001b[1;33m]\u001b[0m\u001b[1;33m.\u001b[0m\u001b[0mshape\u001b[0m\u001b[1;33m)\u001b[0m\u001b[1;33m\u001b[0m\u001b[1;33m\u001b[0m\u001b[0m\n\u001b[1;32m---> 17\u001b[1;33m         \u001b[0mY\u001b[0m\u001b[1;33m[\u001b[0m\u001b[1;33m:\u001b[0m\u001b[1;33m,\u001b[0m \u001b[0mi\u001b[0m\u001b[1;33m,\u001b[0m \u001b[1;33m:\u001b[0m\u001b[1;33m]\u001b[0m \u001b[1;33m=\u001b[0m \u001b[0masr\u001b[0m\u001b[1;33m.\u001b[0m\u001b[0mtransform\u001b[0m\u001b[1;33m(\u001b[0m\u001b[0mX\u001b[0m\u001b[1;33m[\u001b[0m\u001b[1;33m:\u001b[0m\u001b[1;33m,\u001b[0m \u001b[0mi\u001b[0m\u001b[1;33m,\u001b[0m \u001b[1;33m:\u001b[0m\u001b[1;33m]\u001b[0m\u001b[1;33m)\u001b[0m\u001b[1;33m\u001b[0m\u001b[1;33m\u001b[0m\u001b[0m\n\u001b[0m\u001b[0;32m     18\u001b[0m         \u001b[0mprint\u001b[0m\u001b[1;33m(\u001b[0m\u001b[1;34m\"Y = \"\u001b[0m\u001b[1;33m)\u001b[0m\u001b[1;33m\u001b[0m\u001b[1;33m\u001b[0m\u001b[0m\n\u001b[0;32m     19\u001b[0m         \u001b[0mprint\u001b[0m\u001b[1;33m(\u001b[0m\u001b[0mY\u001b[0m\u001b[1;33m[\u001b[0m\u001b[1;33m:\u001b[0m\u001b[1;33m,\u001b[0m \u001b[0mi\u001b[0m\u001b[1;33m,\u001b[0m \u001b[1;33m:\u001b[0m\u001b[1;33m]\u001b[0m\u001b[1;33m)\u001b[0m\u001b[1;33m\u001b[0m\u001b[1;33m\u001b[0m\u001b[0m\n",
      "\u001b[1;32m~\\anaconda3\\lib\\site-packages\\meegkit\\asr.py\u001b[0m in \u001b[0;36mtransform\u001b[1;34m(self, X, y, **kwargs)\u001b[0m\n\u001b[0;32m    253\u001b[0m \u001b[1;33m\u001b[0m\u001b[0m\n\u001b[0;32m    254\u001b[0m         \u001b[1;31m# Clean data, using covariances weighted by sample_weight\u001b[0m\u001b[1;33m\u001b[0m\u001b[1;33m\u001b[0m\u001b[0m\n\u001b[1;32m--> 255\u001b[1;33m         out, self.state_ = asr_process(X, X_filt, self.state_,\n\u001b[0m\u001b[0;32m    256\u001b[0m                                        \u001b[0mcov\u001b[0m\u001b[1;33m=\u001b[0m\u001b[0mnp\u001b[0m\u001b[1;33m.\u001b[0m\u001b[0mstack\u001b[0m\u001b[1;33m(\u001b[0m\u001b[0mself\u001b[0m\u001b[1;33m.\u001b[0m\u001b[0mcov_\u001b[0m\u001b[1;33m)\u001b[0m\u001b[1;33m,\u001b[0m\u001b[1;33m\u001b[0m\u001b[1;33m\u001b[0m\u001b[0m\n\u001b[0;32m    257\u001b[0m                                        \u001b[0mmethod\u001b[0m\u001b[1;33m=\u001b[0m\u001b[0mself\u001b[0m\u001b[1;33m.\u001b[0m\u001b[0mmethod\u001b[0m\u001b[1;33m,\u001b[0m\u001b[1;33m\u001b[0m\u001b[1;33m\u001b[0m\u001b[0m\n",
      "\u001b[1;32m~\\anaconda3\\lib\\site-packages\\meegkit\\asr.py\u001b[0m in \u001b[0;36masr_process\u001b[1;34m(X, X_filt, state, cov, detrend, method, sample_weight)\u001b[0m\n\u001b[0;32m    578\u001b[0m         \u001b[1;32melse\u001b[0m\u001b[1;33m:\u001b[0m\u001b[1;33m\u001b[0m\u001b[1;33m\u001b[0m\u001b[0m\n\u001b[0;32m    579\u001b[0m             \u001b[0mcov\u001b[0m \u001b[1;33m=\u001b[0m \u001b[0mgeometric_median\u001b[0m\u001b[1;33m(\u001b[0m\u001b[0mcov\u001b[0m\u001b[1;33m.\u001b[0m\u001b[0mreshape\u001b[0m\u001b[1;33m(\u001b[0m\u001b[1;33m(\u001b[0m\u001b[1;33m-\u001b[0m\u001b[1;36m1\u001b[0m\u001b[1;33m,\u001b[0m \u001b[0mnc\u001b[0m \u001b[1;33m*\u001b[0m \u001b[0mnc\u001b[0m\u001b[1;33m)\u001b[0m\u001b[1;33m)\u001b[0m\u001b[1;33m)\u001b[0m\u001b[1;33m\u001b[0m\u001b[1;33m\u001b[0m\u001b[0m\n\u001b[1;32m--> 580\u001b[1;33m             \u001b[0mcov\u001b[0m \u001b[1;33m=\u001b[0m \u001b[0mcov\u001b[0m\u001b[1;33m.\u001b[0m\u001b[0mreshape\u001b[0m\u001b[1;33m(\u001b[0m\u001b[1;33m(\u001b[0m\u001b[0mnc\u001b[0m\u001b[1;33m,\u001b[0m \u001b[0mnc\u001b[0m\u001b[1;33m)\u001b[0m\u001b[1;33m)\u001b[0m\u001b[1;33m\u001b[0m\u001b[1;33m\u001b[0m\u001b[0m\n\u001b[0m\u001b[0;32m    581\u001b[0m \u001b[1;33m\u001b[0m\u001b[0m\n\u001b[0;32m    582\u001b[0m     \u001b[0mmaxdims\u001b[0m \u001b[1;33m=\u001b[0m \u001b[0mint\u001b[0m\u001b[1;33m(\u001b[0m\u001b[0mnp\u001b[0m\u001b[1;33m.\u001b[0m\u001b[0mfix\u001b[0m\u001b[1;33m(\u001b[0m\u001b[1;36m0.66\u001b[0m \u001b[1;33m*\u001b[0m \u001b[0mnc\u001b[0m\u001b[1;33m)\u001b[0m\u001b[1;33m)\u001b[0m  \u001b[1;31m# constant TODO make param\u001b[0m\u001b[1;33m\u001b[0m\u001b[1;33m\u001b[0m\u001b[0m\n",
      "\u001b[1;31mAttributeError\u001b[0m: 'NoneType' object has no attribute 'reshape'"
     ]
    }
   ],
   "source": [
    "fileTypeList = [\"_lo\", \"_hi\"]\n",
    "\n",
    "for iterator in range (0, 1):\n",
    "    fileType = fileTypeList[iterator]\n",
    "    for x in range(1, 2):\n",
    "        fileName = str(x) + fileType\n",
    "        print(fileName)\n",
    "        if (x < 10):\n",
    "            URL=\"https://raw.githubusercontent.com/baiyuankok/EEG-Analysis/master/STEW%20Original%20Dataset/sub0\" + fileName + \".txt\"\n",
    "        elif (x >=10):\n",
    "            URL=\"https://raw.githubusercontent.com/baiyuankok/EEG-Analysis/master/STEW%20Original%20Dataset/sub\" + fileName + \".txt\"\n",
    "        else:\n",
    "            continue\n",
    "\n",
    "        print(\"sub\" + str(x) + \":\")\n",
    "        print(URL)\n",
    "#         x = np.loadtxt(URL)\n",
    "#         print(x)\n",
    "        raw = dataframe_to_raw(URL)\n",
    "        rawx = raw.to_data_frame()\n",
    "        rawx.drop(['time'], axis = 1, inplace=True)\n",
    "#         print(rawx)\n",
    "\n",
    "        # raw.plot(n_channels=14, scalings='auto')\n",
    "\n",
    "        # band-pass filter from 1 to 30 frequency over just EEG channel\n",
    "#         raw.filter(1, 30, fir_design='firwin', picks=['eeg'])\n",
    "        sfreq = 128\n",
    "        numpyarray = (rawx.T).to_numpy()    \n",
    "        \n",
    "        \n",
    "        clean_data = perform_ASR(numpyarray, 128)\n",
    "#         clean.plot(n_channels=14, scalings='auto')\n",
    "\n",
    "#         epochs_faster = prepare_epochs(raw)\n",
    "#         epochs_autoreject = prepare_epochs_autoreject(epochs_faster)\n",
    "#         epochs_autoreject.set_eeg_reference('average')\n",
    "\n",
    "#         epochs_autoreject.plot(n_channels=14, scalings='auto')\n",
    "#         destination_folder = \"D:\\\\New folder\\\\Semester 7\\\\CAT 400\\\\STEW Finalised Dataset\\\\\" + fileName + \"_epo.fif\"\n",
    "#         epochs_autoreject.save(destination_folder)"
   ]
  },
  {
   "cell_type": "code",
   "execution_count": null,
   "id": "d36861ea",
   "metadata": {},
   "outputs": [],
   "source": [
    "# X.shape"
   ]
  },
  {
   "cell_type": "code",
   "execution_count": null,
   "id": "b791b830",
   "metadata": {},
   "outputs": [],
   "source": [
    "# reject_log.plot_epochs(epochs_faster, scalings='auto', title=\"Reject Log Epochs\");"
   ]
  },
  {
   "cell_type": "code",
   "execution_count": null,
   "id": "94b97a5d",
   "metadata": {
    "scrolled": true
   },
   "outputs": [],
   "source": [
    "# epochs_autoreject = epochs_faster.copy().drop(reject_log.report, reason='AUTOREJECT')"
   ]
  },
  {
   "cell_type": "code",
   "execution_count": null,
   "id": "a46ae003",
   "metadata": {
    "scrolled": false
   },
   "outputs": [],
   "source": [
    "# epochs_autoreject.plot(n_epochs=10, n_channels=14, scalings='auto',)"
   ]
  },
  {
   "cell_type": "code",
   "execution_count": null,
   "id": "b04a6343",
   "metadata": {},
   "outputs": [],
   "source": [
    "# epochs_autoreject.set_eeg_reference('average')"
   ]
  },
  {
   "cell_type": "code",
   "execution_count": null,
   "id": "ad0cb5c5",
   "metadata": {
    "scrolled": false
   },
   "outputs": [],
   "source": [
    "# epochs_autoreject.plot(n_channels=32,\n",
    "#                        # group_by='position',\n",
    "#                        scalings='auto')"
   ]
  },
  {
   "cell_type": "code",
   "execution_count": null,
   "id": "990c12ed",
   "metadata": {},
   "outputs": [],
   "source": [
    "# epochs_autoreject.save(r\"D:\\New folder\\Semester 7\\CAT 400\\STEW Finalised Dataset\\01_hi_duplicate_epo.fif\")"
   ]
  },
  {
   "cell_type": "markdown",
   "id": "395a557f",
   "metadata": {},
   "source": [
    "Testing for manual step"
   ]
  }
 ],
 "metadata": {
  "kernelspec": {
   "display_name": "Python 3 (ipykernel)",
   "language": "python",
   "name": "python3"
  },
  "language_info": {
   "codemirror_mode": {
    "name": "ipython",
    "version": 3
   },
   "file_extension": ".py",
   "mimetype": "text/x-python",
   "name": "python",
   "nbconvert_exporter": "python",
   "pygments_lexer": "ipython3",
   "version": "3.9.7"
  }
 },
 "nbformat": 4,
 "nbformat_minor": 5
}
