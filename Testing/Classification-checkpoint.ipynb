{
 "cells": [
  {
   "cell_type": "code",
   "execution_count": 1,
   "id": "d6acfe72",
   "metadata": {},
   "outputs": [],
   "source": [
    "import numpy as np\n",
    "import pandas as pd\n",
    "import matplotlib.pyplot as plt\n",
    "import os\n",
    "from numpy import mean\n",
    "from numpy import std\n",
    "from sklearn import svm\n",
    "from sklearn import metrics\n",
    "from sklearn.preprocessing import MinMaxScaler\n",
    "from sklearn.model_selection import train_test_split\n",
    "from sklearn.model_selection import GridSearchCV\n",
    "from sklearn.model_selection import cross_val_score\n",
    "from sklearn.metrics import plot_confusion_matrix"
   ]
  },
  {
   "cell_type": "code",
   "execution_count": 2,
   "id": "76291d14",
   "metadata": {},
   "outputs": [
    {
     "data": {
      "text/plain": [
       "['01_hi.csv',\n",
       " '02_hi.csv',\n",
       " '03_hi.csv',\n",
       " '03_lo.csv',\n",
       " '04_hi.csv',\n",
       " '04_lo.csv',\n",
       " '06_hi.csv',\n",
       " '06_lo.csv',\n",
       " '07_hi.csv',\n",
       " '07_lo.csv',\n",
       " '08_hi.csv',\n",
       " '09_hi.csv',\n",
       " '10_hi.csv',\n",
       " '10_lo.csv',\n",
       " '11_hi.csv',\n",
       " '11_lo.csv',\n",
       " '12_hi.csv',\n",
       " '13_hi.csv',\n",
       " '13_lo.csv',\n",
       " '14_hi.csv',\n",
       " '14_lo.csv',\n",
       " '15_hi.csv',\n",
       " '15_lo.csv',\n",
       " '16_hi.csv',\n",
       " '16_lo.csv',\n",
       " '17_hi.csv',\n",
       " '18_hi.csv',\n",
       " '18_lo.csv',\n",
       " '19_hi.csv',\n",
       " '20_hi.csv',\n",
       " '21_hi.csv',\n",
       " '22_hi.csv',\n",
       " '22_lo.csv',\n",
       " '23_hi.csv',\n",
       " '23_lo.csv',\n",
       " '25_hi.csv',\n",
       " '25_lo.csv',\n",
       " '26_hi.csv',\n",
       " '26_lo.csv',\n",
       " '27_hi.csv',\n",
       " '27_lo.csv',\n",
       " '28_hi.csv',\n",
       " '28_lo.csv',\n",
       " '29_hi.csv',\n",
       " '29_lo.csv',\n",
       " '30_hi.csv',\n",
       " '31_hi.csv',\n",
       " '32_hi.csv',\n",
       " '32_lo.csv',\n",
       " '33_hi.csv',\n",
       " '33_lo.csv',\n",
       " '34_hi.csv',\n",
       " '34_lo.csv',\n",
       " '35_hi.csv',\n",
       " '35_lo.csv',\n",
       " '36_hi.csv',\n",
       " '36_lo.csv',\n",
       " '37_hi.csv',\n",
       " '37_lo.csv',\n",
       " '38_hi.csv',\n",
       " '38_lo.csv',\n",
       " '39_hi.csv',\n",
       " '39_lo.csv',\n",
       " '40_hi.csv',\n",
       " '40_lo.csv',\n",
       " '41_hi.csv',\n",
       " '41_lo.csv',\n",
       " '43_hi.csv',\n",
       " '43_lo.csv',\n",
       " '44_hi.csv',\n",
       " '44_lo.csv',\n",
       " '45_hi.csv',\n",
       " '45_lo.csv',\n",
       " '46_hi.csv',\n",
       " '46_lo.csv',\n",
       " '47_hi.csv',\n",
       " '48_hi.csv',\n",
       " '48_lo.csv']"
      ]
     },
     "execution_count": 2,
     "metadata": {},
     "output_type": "execute_result"
    }
   ],
   "source": [
    "all_ratings = pd.read_csv('https://raw.githubusercontent.com/baiyuankok/EEG-Analysis/master/STEW%20Original%20Dataset/ratings.txt', header=None)\n",
    "current_dir = os.listdir('D:\\\\New folder\\\\Semester 7\\\\CAT 400\\\\STEW Finalised Dataset')\n",
    "current_dir"
   ]
  },
  {
   "cell_type": "code",
   "execution_count": 3,
   "id": "06b5c4d8",
   "metadata": {},
   "outputs": [],
   "source": [
    "eeg_data = []\n",
    "\n",
    "for current_file in current_dir:\n",
    "    if current_file[-3:] == 'csv':\n",
    "        subject = int(current_file[0:2])\n",
    "        rating = all_ratings[all_ratings[0] == subject] \n",
    "        if len(rating)==0:\n",
    "            rating_array = np.array([[0,0,0]])\n",
    "        else:\n",
    "            rating_array = rating.values\n",
    "        \n",
    "        current_file_dataframe = pd.read_csv('D:\\\\New folder\\\\Semester 7\\\\CAT 400\\\\STEW Finalised Dataset\\\\' + current_file, header='infer')\n",
    "        current_file_dataframe['subj'] = subject\n",
    "        \n",
    "        current_file_dataframe['hilo'] = current_file[3:5]\n",
    "        if current_file[3:5] == 'hi':\n",
    "            current_file_dataframe['subjective_rating'] = rating_array[0][2]\n",
    "        else:\n",
    "            current_file_dataframe['subjective_rating'] = rating_array[0][1]\n",
    "        eeg_data.append(current_file_dataframe)\n",
    "        \n",
    "eeg_data = pd.concat(eeg_data)"
   ]
  },
  {
   "cell_type": "code",
   "execution_count": 4,
   "id": "a373972b",
   "metadata": {},
   "outputs": [],
   "source": [
    "all_electrodes = ['AF3_Delta', 'AF3_Theta', 'AF3_Alpha', 'AF3_Beta',\n",
    "       'AF3_Gamma', 'F7_Delta', 'F7_Theta', 'F7_Alpha', 'F7_Beta', 'F7_Gamma',\n",
    "       'F3_Delta', 'F3_Theta', 'F3_Alpha', 'F3_Beta', 'F3_Gamma', 'FC5_Delta',\n",
    "       'FC5_Theta', 'FC5_Alpha', 'FC5_Beta', 'FC5_Gamma', 'T7_Delta',\n",
    "       'T7_Theta', 'T7_Alpha', 'T7_Beta', 'T7_Gamma', 'P7_Delta', 'P7_Theta',\n",
    "       'P7_Alpha', 'P7_Beta', 'P7_Gamma', 'O1_Delta', 'O1_Theta', 'O1_Alpha',\n",
    "       'O1_Beta', 'O1_Gamma', 'O2_Delta', 'O2_Theta', 'O2_Alpha', 'O2_Beta',\n",
    "       'O2_Gamma', 'P8_Delta', 'P8_Theta', 'P8_Alpha', 'P8_Beta', 'P8_Gamma',\n",
    "       'T8_Delta', 'T8_Theta', 'T8_Alpha', 'T8_Beta', 'T8_Gamma', 'FC6_Delta',\n",
    "       'FC6_Theta', 'FC6_Alpha', 'FC6_Beta', 'FC6_Gamma', 'F4_Delta',\n",
    "       'F4_Theta', 'F4_Alpha', 'F4_Beta', 'F4_Gamma', 'F8_Delta', 'F8_Theta',\n",
    "       'F8_Alpha', 'F8_Beta', 'F8_Gamma', 'AF4_Delta', 'AF4_Theta',\n",
    "       'AF4_Alpha', 'AF4_Beta', 'AF4_Gamma'];"
   ]
  },
  {
   "cell_type": "code",
   "execution_count": 5,
   "id": "09ed9f26",
   "metadata": {},
   "outputs": [],
   "source": [
    "eeg_data_numerical = eeg_data[all_electrodes]"
   ]
  },
  {
   "cell_type": "code",
   "execution_count": 6,
   "id": "dad4ef08",
   "metadata": {},
   "outputs": [
    {
     "data": {
      "text/html": [
       "<div>\n",
       "<style scoped>\n",
       "    .dataframe tbody tr th:only-of-type {\n",
       "        vertical-align: middle;\n",
       "    }\n",
       "\n",
       "    .dataframe tbody tr th {\n",
       "        vertical-align: top;\n",
       "    }\n",
       "\n",
       "    .dataframe thead th {\n",
       "        text-align: right;\n",
       "    }\n",
       "</style>\n",
       "<table border=\"1\" class=\"dataframe\">\n",
       "  <thead>\n",
       "    <tr style=\"text-align: right;\">\n",
       "      <th></th>\n",
       "      <th>AF3_Delta</th>\n",
       "      <th>AF3_Theta</th>\n",
       "      <th>AF3_Alpha</th>\n",
       "      <th>AF3_Beta</th>\n",
       "      <th>AF3_Gamma</th>\n",
       "      <th>F7_Delta</th>\n",
       "      <th>F7_Theta</th>\n",
       "      <th>F7_Alpha</th>\n",
       "      <th>F7_Beta</th>\n",
       "      <th>F7_Gamma</th>\n",
       "      <th>...</th>\n",
       "      <th>F8_Delta</th>\n",
       "      <th>F8_Theta</th>\n",
       "      <th>F8_Alpha</th>\n",
       "      <th>F8_Beta</th>\n",
       "      <th>F8_Gamma</th>\n",
       "      <th>AF4_Delta</th>\n",
       "      <th>AF4_Theta</th>\n",
       "      <th>AF4_Alpha</th>\n",
       "      <th>AF4_Beta</th>\n",
       "      <th>AF4_Gamma</th>\n",
       "    </tr>\n",
       "  </thead>\n",
       "  <tbody>\n",
       "    <tr>\n",
       "      <th>0</th>\n",
       "      <td>0.295191</td>\n",
       "      <td>0.149520</td>\n",
       "      <td>0.285196</td>\n",
       "      <td>0.186608</td>\n",
       "      <td>0.161120</td>\n",
       "      <td>0.434763</td>\n",
       "      <td>0.106166</td>\n",
       "      <td>0.124748</td>\n",
       "      <td>0.193940</td>\n",
       "      <td>0.164939</td>\n",
       "      <td>...</td>\n",
       "      <td>0.742087</td>\n",
       "      <td>0.129224</td>\n",
       "      <td>0.023182</td>\n",
       "      <td>0.029935</td>\n",
       "      <td>0.032797</td>\n",
       "      <td>0.562962</td>\n",
       "      <td>0.153784</td>\n",
       "      <td>0.020207</td>\n",
       "      <td>0.151055</td>\n",
       "      <td>0.148686</td>\n",
       "    </tr>\n",
       "    <tr>\n",
       "      <th>1</th>\n",
       "      <td>0.264505</td>\n",
       "      <td>0.281513</td>\n",
       "      <td>0.104946</td>\n",
       "      <td>0.112601</td>\n",
       "      <td>0.062557</td>\n",
       "      <td>0.774072</td>\n",
       "      <td>0.092537</td>\n",
       "      <td>0.037756</td>\n",
       "      <td>0.034234</td>\n",
       "      <td>0.022647</td>\n",
       "      <td>...</td>\n",
       "      <td>0.825248</td>\n",
       "      <td>0.052971</td>\n",
       "      <td>0.013199</td>\n",
       "      <td>0.017379</td>\n",
       "      <td>0.014093</td>\n",
       "      <td>0.733891</td>\n",
       "      <td>0.054418</td>\n",
       "      <td>0.020286</td>\n",
       "      <td>0.034518</td>\n",
       "      <td>0.037213</td>\n",
       "    </tr>\n",
       "    <tr>\n",
       "      <th>2</th>\n",
       "      <td>0.238975</td>\n",
       "      <td>0.155255</td>\n",
       "      <td>0.069810</td>\n",
       "      <td>0.294882</td>\n",
       "      <td>0.184670</td>\n",
       "      <td>0.801135</td>\n",
       "      <td>0.034604</td>\n",
       "      <td>0.031396</td>\n",
       "      <td>0.034331</td>\n",
       "      <td>0.040378</td>\n",
       "      <td>...</td>\n",
       "      <td>0.733876</td>\n",
       "      <td>0.041697</td>\n",
       "      <td>0.094563</td>\n",
       "      <td>0.086869</td>\n",
       "      <td>0.097817</td>\n",
       "      <td>0.170297</td>\n",
       "      <td>0.041396</td>\n",
       "      <td>0.063659</td>\n",
       "      <td>0.406216</td>\n",
       "      <td>0.632632</td>\n",
       "    </tr>\n",
       "    <tr>\n",
       "      <th>3</th>\n",
       "      <td>0.547844</td>\n",
       "      <td>0.157650</td>\n",
       "      <td>0.024416</td>\n",
       "      <td>0.129039</td>\n",
       "      <td>0.155483</td>\n",
       "      <td>0.578452</td>\n",
       "      <td>0.159690</td>\n",
       "      <td>0.020188</td>\n",
       "      <td>0.213034</td>\n",
       "      <td>0.241161</td>\n",
       "      <td>...</td>\n",
       "      <td>0.808852</td>\n",
       "      <td>0.056542</td>\n",
       "      <td>0.027593</td>\n",
       "      <td>0.038562</td>\n",
       "      <td>0.037256</td>\n",
       "      <td>0.134986</td>\n",
       "      <td>0.030384</td>\n",
       "      <td>0.089214</td>\n",
       "      <td>0.435764</td>\n",
       "      <td>0.624543</td>\n",
       "    </tr>\n",
       "    <tr>\n",
       "      <th>4</th>\n",
       "      <td>0.514811</td>\n",
       "      <td>0.166098</td>\n",
       "      <td>0.058063</td>\n",
       "      <td>0.095298</td>\n",
       "      <td>0.124430</td>\n",
       "      <td>0.702183</td>\n",
       "      <td>0.097933</td>\n",
       "      <td>0.050713</td>\n",
       "      <td>0.039421</td>\n",
       "      <td>0.038983</td>\n",
       "      <td>...</td>\n",
       "      <td>0.825971</td>\n",
       "      <td>0.021859</td>\n",
       "      <td>0.022027</td>\n",
       "      <td>0.025608</td>\n",
       "      <td>0.021652</td>\n",
       "      <td>0.673349</td>\n",
       "      <td>0.011384</td>\n",
       "      <td>0.040250</td>\n",
       "      <td>0.175528</td>\n",
       "      <td>0.196450</td>\n",
       "    </tr>\n",
       "    <tr>\n",
       "      <th>...</th>\n",
       "      <td>...</td>\n",
       "      <td>...</td>\n",
       "      <td>...</td>\n",
       "      <td>...</td>\n",
       "      <td>...</td>\n",
       "      <td>...</td>\n",
       "      <td>...</td>\n",
       "      <td>...</td>\n",
       "      <td>...</td>\n",
       "      <td>...</td>\n",
       "      <td>...</td>\n",
       "      <td>...</td>\n",
       "      <td>...</td>\n",
       "      <td>...</td>\n",
       "      <td>...</td>\n",
       "      <td>...</td>\n",
       "      <td>...</td>\n",
       "      <td>...</td>\n",
       "      <td>...</td>\n",
       "      <td>...</td>\n",
       "      <td>...</td>\n",
       "    </tr>\n",
       "    <tr>\n",
       "      <th>31</th>\n",
       "      <td>0.665432</td>\n",
       "      <td>0.102648</td>\n",
       "      <td>0.085382</td>\n",
       "      <td>0.060281</td>\n",
       "      <td>0.064189</td>\n",
       "      <td>0.570688</td>\n",
       "      <td>0.112703</td>\n",
       "      <td>0.084348</td>\n",
       "      <td>0.032393</td>\n",
       "      <td>0.023700</td>\n",
       "      <td>...</td>\n",
       "      <td>0.869927</td>\n",
       "      <td>0.020871</td>\n",
       "      <td>0.025930</td>\n",
       "      <td>0.009143</td>\n",
       "      <td>0.009739</td>\n",
       "      <td>0.764485</td>\n",
       "      <td>0.050910</td>\n",
       "      <td>0.039745</td>\n",
       "      <td>0.030535</td>\n",
       "      <td>0.025207</td>\n",
       "    </tr>\n",
       "    <tr>\n",
       "      <th>32</th>\n",
       "      <td>0.671092</td>\n",
       "      <td>0.008838</td>\n",
       "      <td>0.116693</td>\n",
       "      <td>0.151461</td>\n",
       "      <td>0.155986</td>\n",
       "      <td>0.694818</td>\n",
       "      <td>0.107037</td>\n",
       "      <td>0.070233</td>\n",
       "      <td>0.017896</td>\n",
       "      <td>0.015915</td>\n",
       "      <td>...</td>\n",
       "      <td>0.791509</td>\n",
       "      <td>0.039570</td>\n",
       "      <td>0.021281</td>\n",
       "      <td>0.009850</td>\n",
       "      <td>0.008715</td>\n",
       "      <td>0.398965</td>\n",
       "      <td>0.032832</td>\n",
       "      <td>0.130364</td>\n",
       "      <td>0.277040</td>\n",
       "      <td>0.324888</td>\n",
       "    </tr>\n",
       "    <tr>\n",
       "      <th>33</th>\n",
       "      <td>0.688315</td>\n",
       "      <td>0.042304</td>\n",
       "      <td>0.200541</td>\n",
       "      <td>0.059378</td>\n",
       "      <td>0.059277</td>\n",
       "      <td>1.104755</td>\n",
       "      <td>0.063213</td>\n",
       "      <td>0.016166</td>\n",
       "      <td>0.019060</td>\n",
       "      <td>0.016970</td>\n",
       "      <td>...</td>\n",
       "      <td>0.872467</td>\n",
       "      <td>0.019007</td>\n",
       "      <td>0.023164</td>\n",
       "      <td>0.004900</td>\n",
       "      <td>0.005557</td>\n",
       "      <td>0.389605</td>\n",
       "      <td>0.043488</td>\n",
       "      <td>0.292328</td>\n",
       "      <td>0.129540</td>\n",
       "      <td>0.103656</td>\n",
       "    </tr>\n",
       "    <tr>\n",
       "      <th>34</th>\n",
       "      <td>0.701149</td>\n",
       "      <td>0.080657</td>\n",
       "      <td>0.154710</td>\n",
       "      <td>0.057618</td>\n",
       "      <td>0.072066</td>\n",
       "      <td>0.896349</td>\n",
       "      <td>0.032126</td>\n",
       "      <td>0.013213</td>\n",
       "      <td>0.004982</td>\n",
       "      <td>0.004286</td>\n",
       "      <td>...</td>\n",
       "      <td>0.890323</td>\n",
       "      <td>0.027547</td>\n",
       "      <td>0.016031</td>\n",
       "      <td>0.002792</td>\n",
       "      <td>0.002422</td>\n",
       "      <td>0.769228</td>\n",
       "      <td>0.033193</td>\n",
       "      <td>0.045512</td>\n",
       "      <td>0.070708</td>\n",
       "      <td>0.085928</td>\n",
       "    </tr>\n",
       "    <tr>\n",
       "      <th>35</th>\n",
       "      <td>0.637662</td>\n",
       "      <td>0.081082</td>\n",
       "      <td>0.091526</td>\n",
       "      <td>0.169765</td>\n",
       "      <td>0.174881</td>\n",
       "      <td>0.871172</td>\n",
       "      <td>0.041898</td>\n",
       "      <td>0.046839</td>\n",
       "      <td>0.021808</td>\n",
       "      <td>0.023987</td>\n",
       "      <td>...</td>\n",
       "      <td>0.856541</td>\n",
       "      <td>0.070303</td>\n",
       "      <td>0.023613</td>\n",
       "      <td>0.016660</td>\n",
       "      <td>0.018438</td>\n",
       "      <td>0.479490</td>\n",
       "      <td>0.121248</td>\n",
       "      <td>0.149170</td>\n",
       "      <td>0.127532</td>\n",
       "      <td>0.158883</td>\n",
       "    </tr>\n",
       "  </tbody>\n",
       "</table>\n",
       "<p>3821 rows × 70 columns</p>\n",
       "</div>"
      ],
      "text/plain": [
       "    AF3_Delta  AF3_Theta  AF3_Alpha  AF3_Beta  AF3_Gamma  F7_Delta  F7_Theta  \\\n",
       "0    0.295191   0.149520   0.285196  0.186608   0.161120  0.434763  0.106166   \n",
       "1    0.264505   0.281513   0.104946  0.112601   0.062557  0.774072  0.092537   \n",
       "2    0.238975   0.155255   0.069810  0.294882   0.184670  0.801135  0.034604   \n",
       "3    0.547844   0.157650   0.024416  0.129039   0.155483  0.578452  0.159690   \n",
       "4    0.514811   0.166098   0.058063  0.095298   0.124430  0.702183  0.097933   \n",
       "..        ...        ...        ...       ...        ...       ...       ...   \n",
       "31   0.665432   0.102648   0.085382  0.060281   0.064189  0.570688  0.112703   \n",
       "32   0.671092   0.008838   0.116693  0.151461   0.155986  0.694818  0.107037   \n",
       "33   0.688315   0.042304   0.200541  0.059378   0.059277  1.104755  0.063213   \n",
       "34   0.701149   0.080657   0.154710  0.057618   0.072066  0.896349  0.032126   \n",
       "35   0.637662   0.081082   0.091526  0.169765   0.174881  0.871172  0.041898   \n",
       "\n",
       "    F7_Alpha   F7_Beta  F7_Gamma  ...  F8_Delta  F8_Theta  F8_Alpha   F8_Beta  \\\n",
       "0   0.124748  0.193940  0.164939  ...  0.742087  0.129224  0.023182  0.029935   \n",
       "1   0.037756  0.034234  0.022647  ...  0.825248  0.052971  0.013199  0.017379   \n",
       "2   0.031396  0.034331  0.040378  ...  0.733876  0.041697  0.094563  0.086869   \n",
       "3   0.020188  0.213034  0.241161  ...  0.808852  0.056542  0.027593  0.038562   \n",
       "4   0.050713  0.039421  0.038983  ...  0.825971  0.021859  0.022027  0.025608   \n",
       "..       ...       ...       ...  ...       ...       ...       ...       ...   \n",
       "31  0.084348  0.032393  0.023700  ...  0.869927  0.020871  0.025930  0.009143   \n",
       "32  0.070233  0.017896  0.015915  ...  0.791509  0.039570  0.021281  0.009850   \n",
       "33  0.016166  0.019060  0.016970  ...  0.872467  0.019007  0.023164  0.004900   \n",
       "34  0.013213  0.004982  0.004286  ...  0.890323  0.027547  0.016031  0.002792   \n",
       "35  0.046839  0.021808  0.023987  ...  0.856541  0.070303  0.023613  0.016660   \n",
       "\n",
       "    F8_Gamma  AF4_Delta  AF4_Theta  AF4_Alpha  AF4_Beta  AF4_Gamma  \n",
       "0   0.032797   0.562962   0.153784   0.020207  0.151055   0.148686  \n",
       "1   0.014093   0.733891   0.054418   0.020286  0.034518   0.037213  \n",
       "2   0.097817   0.170297   0.041396   0.063659  0.406216   0.632632  \n",
       "3   0.037256   0.134986   0.030384   0.089214  0.435764   0.624543  \n",
       "4   0.021652   0.673349   0.011384   0.040250  0.175528   0.196450  \n",
       "..       ...        ...        ...        ...       ...        ...  \n",
       "31  0.009739   0.764485   0.050910   0.039745  0.030535   0.025207  \n",
       "32  0.008715   0.398965   0.032832   0.130364  0.277040   0.324888  \n",
       "33  0.005557   0.389605   0.043488   0.292328  0.129540   0.103656  \n",
       "34  0.002422   0.769228   0.033193   0.045512  0.070708   0.085928  \n",
       "35  0.018438   0.479490   0.121248   0.149170  0.127532   0.158883  \n",
       "\n",
       "[3821 rows x 70 columns]"
      ]
     },
     "execution_count": 6,
     "metadata": {},
     "output_type": "execute_result"
    }
   ],
   "source": [
    "eeg_data_numerical"
   ]
  },
  {
   "cell_type": "code",
   "execution_count": 7,
   "id": "bb89163f",
   "metadata": {},
   "outputs": [],
   "source": [
    "# 1 = Very Low (1), 2 to 3 = Low (2), 4 to 5 Balanced (3), 6 to 7 High (4), 8 to 9 Very High (5)\n",
    "subjective_ratings = eeg_data['subjective_rating'].values;\n",
    "# subjective_ratings_grouped = [ 1 if (1<= i <=2) else 2 if (3 <= i <= 4) else 3 if (5 <= i <= 6) else 4 if (7 <= i <= 8) else 5 for i in subjective_ratings ]\n",
    "subjective_ratings_grouped = [ 1 if (i == 1) else 2 if (2 <= i <= 3) else 3 if (4 <= i <= 5) else 4 if (6 <= i <= 7) else 5 for i in subjective_ratings ]"
   ]
  },
  {
   "cell_type": "code",
   "execution_count": 8,
   "id": "958b9bc1",
   "metadata": {},
   "outputs": [],
   "source": [
    "X = np.array(eeg_data_numerical)"
   ]
  },
  {
   "cell_type": "code",
   "execution_count": 9,
   "id": "542cb7b8",
   "metadata": {},
   "outputs": [],
   "source": [
    "y = np.array(subjective_ratings_grouped)"
   ]
  },
  {
   "cell_type": "code",
   "execution_count": 10,
   "id": "8f6d1a52",
   "metadata": {},
   "outputs": [
    {
     "data": {
      "text/plain": [
       "((3821, 70), (3821,))"
      ]
     },
     "execution_count": 10,
     "metadata": {},
     "output_type": "execute_result"
    }
   ],
   "source": [
    "X.shape, y.shape"
   ]
  },
  {
   "cell_type": "code",
   "execution_count": 11,
   "id": "0c3ac33e",
   "metadata": {},
   "outputs": [
    {
     "data": {
      "text/plain": [
       "(797, 798, 874, 726, 626)"
      ]
     },
     "execution_count": 11,
     "metadata": {},
     "output_type": "execute_result"
    }
   ],
   "source": [
    "list(y).count(1), list(y).count(2), list(y).count(3), list(y).count(4), list(y).count(5)"
   ]
  },
  {
   "cell_type": "code",
   "execution_count": 12,
   "id": "2f7d4abf",
   "metadata": {
    "scrolled": true
   },
   "outputs": [
    {
     "data": {
      "text/plain": [
       "(array([[0.43747379, 0.22992127, 0.06157792, ..., 0.17335534, 0.30525789,\n",
       "         0.24108776],\n",
       "        [0.24854927, 0.2095947 , 0.2409265 , ..., 0.23797811, 0.11186312,\n",
       "         0.09911498],\n",
       "        [0.44980272, 0.16190318, 0.12204513, ..., 0.21416438, 0.24186502,\n",
       "         0.23479921],\n",
       "        ...,\n",
       "        [0.44422792, 0.43461252, 0.0349401 , ..., 0.02519861, 0.0482744 ,\n",
       "         0.05357655],\n",
       "        [0.18206222, 0.11155033, 0.34811788, ..., 0.45676025, 0.07342111,\n",
       "         0.07822707],\n",
       "        [0.10844593, 0.6398723 , 0.03528887, ..., 0.04228161, 0.03145172,\n",
       "         0.02486698]]),\n",
       " array([[0.77648747, 0.02217239, 0.10107716, ..., 0.06519679, 0.09675753,\n",
       "         0.06775724],\n",
       "        [0.906566  , 0.01367596, 0.00169031, ..., 0.11614037, 0.07660107,\n",
       "         0.06869835],\n",
       "        [0.57301838, 0.29074763, 0.06157395, ..., 0.03631206, 0.01560635,\n",
       "         0.01537381],\n",
       "        ...,\n",
       "        [0.53975514, 0.19507368, 0.10093386, ..., 0.07244372, 0.14108044,\n",
       "         0.13038866],\n",
       "        [0.34859455, 0.0372257 , 0.17203997, ..., 0.2997348 , 0.14866654,\n",
       "         0.14971177],\n",
       "        [0.26885517, 0.20043464, 0.10471658, ..., 0.0150756 , 0.27155344,\n",
       "         0.25753463]]),\n",
       " array([2, 1, 1, ..., 5, 1, 5]),\n",
       " array([2, 2, 2, 3, 3, 1, 1, 2, 5, 3, 2, 2, 2, 5, 3, 1, 4, 3, 4, 2, 5, 3,\n",
       "        5, 3, 1, 1, 5, 2, 3, 4, 5, 5, 5, 1, 2, 2, 5, 2, 2, 2, 4, 1, 1, 3,\n",
       "        4, 5, 1, 3, 4, 3, 5, 5, 5, 5, 3, 2, 4, 4, 4, 4, 2, 5, 1, 2, 2, 2,\n",
       "        3, 1, 1, 5, 5, 1, 1, 1, 4, 2, 2, 4, 3, 3, 5, 5, 2, 1, 4, 1, 3, 3,\n",
       "        3, 4, 3, 4, 5, 5, 4, 5, 3, 2, 5, 1, 3, 1, 1, 1, 1, 2, 2, 2, 4, 2,\n",
       "        3, 2, 2, 4, 2, 4, 5, 5, 3, 3, 5, 1, 3, 2, 3, 4, 4, 3, 5, 2, 4, 5,\n",
       "        5, 1, 2, 3, 1, 3, 4, 1, 2, 5, 5, 2, 1, 2, 3, 5, 5, 2, 2, 2, 5, 4,\n",
       "        5, 3, 3, 1, 3, 2, 1, 2, 3, 5, 2, 3, 1, 2, 5, 5, 1, 3, 3, 1, 4, 3,\n",
       "        1, 3, 3, 1, 3, 3, 1, 1, 2, 4, 4, 3, 5, 2, 2, 1, 1, 3, 4, 1, 3, 1,\n",
       "        1, 3, 3, 3, 2, 1, 5, 1, 2, 1, 5, 2, 3, 1, 5, 4, 4, 1, 3, 2, 2, 2,\n",
       "        4, 2, 1, 3, 4, 2, 4, 4, 2, 5, 3, 5, 4, 1, 1, 1, 5, 2, 3, 2, 2, 3,\n",
       "        3, 5, 3, 3, 2, 5, 5, 4, 2, 3, 5, 1, 1, 1, 5, 4, 3, 5, 1, 1, 3, 4,\n",
       "        4, 3, 1, 4, 4, 3, 1, 2, 3, 2, 1, 4, 3, 2, 1, 2, 3, 1, 1, 5, 1, 4,\n",
       "        1, 3, 5, 2, 2, 5, 2, 2, 2, 3, 4, 5, 1, 4, 4, 1, 2, 1, 5, 3, 3, 2,\n",
       "        4, 5, 2, 5, 1, 5, 2, 2, 3, 2, 3, 3, 5, 2, 3, 1, 5, 5, 3, 5, 4, 3,\n",
       "        1, 3, 5, 5, 3, 1, 3, 2, 3, 3, 1, 5, 2, 1, 1, 2, 3, 1, 1, 5, 4, 4,\n",
       "        1, 2, 1, 3, 1, 5, 4, 4, 2, 2, 3, 4, 2, 3, 4, 1, 2, 2, 5, 5, 2, 5,\n",
       "        3, 4, 1, 3, 1, 5, 2, 1, 5, 3, 2, 1, 5, 4, 4, 2, 4, 5, 1, 1, 1, 5,\n",
       "        1, 4, 4, 1, 3, 1, 1, 1, 2, 4, 5, 2, 5, 4, 2, 4, 4, 2, 2, 3, 1, 2,\n",
       "        4, 1, 5, 4, 5, 3, 5, 3, 4, 4, 2, 1, 4, 2, 5, 3, 3, 1, 2, 3, 3, 3,\n",
       "        1, 4, 2, 4, 1, 2, 4, 1, 1, 1, 4, 4, 2, 2, 5, 3, 3, 4, 2, 3, 4, 2,\n",
       "        2, 3, 3, 2, 4, 5, 2, 3, 5, 4, 1, 3, 3, 5, 4, 4, 1, 1, 5, 5, 5, 2,\n",
       "        4, 4, 4, 3, 4, 4, 4, 5, 5, 3, 4, 4, 1, 4, 1, 3, 3, 3, 2, 1, 2, 5,\n",
       "        3, 2, 1, 3, 2, 3, 4, 5, 2, 2, 4, 1, 1, 1, 5, 4, 1, 3, 3, 3, 5, 1,\n",
       "        2, 4, 3, 3, 3, 2, 4, 4, 1, 2, 2, 4, 5, 4, 4, 3, 2, 5, 3, 3, 5, 4,\n",
       "        2, 1, 2, 4, 3, 3, 4, 2, 1, 1, 1, 5, 5, 5, 3, 4, 5, 4, 2, 5, 4, 1,\n",
       "        5, 2, 5, 2, 4, 5, 3, 4, 2, 1, 4, 3, 1, 1, 1, 5, 2, 1, 5, 3, 2, 4,\n",
       "        4, 4, 4, 4, 5, 5, 1, 4, 4, 2, 1, 3, 1, 3, 3, 5, 3, 5, 1, 1, 2, 5,\n",
       "        1, 1, 1, 3, 2, 2, 1, 3, 2, 2, 1, 3, 4, 2, 4, 3, 1, 1, 5, 3, 2, 1,\n",
       "        2, 4, 3, 1, 4, 5, 2, 2, 5, 4, 3, 1, 5, 5, 4, 4, 3, 3, 5, 1, 5, 5,\n",
       "        2, 4, 4, 2, 3, 3, 3, 1, 1, 1, 1, 2, 4, 5, 2, 3, 2, 2, 3, 3, 1, 3,\n",
       "        1, 4, 2, 3, 3, 4, 5, 3, 5, 2, 1, 3, 1, 4, 3, 5, 4, 2, 3, 2, 4, 1,\n",
       "        1, 3, 3, 2, 4, 5, 2, 5, 3, 3, 3, 5, 3, 1, 4, 2, 4, 3, 1, 5, 1, 1,\n",
       "        3, 2, 4, 2, 5, 5, 3, 1, 2, 4, 3, 3, 5, 2, 5, 2, 5, 5, 2, 5, 4, 1,\n",
       "        3, 3, 1, 1, 5, 2, 2, 3, 1, 4, 2, 1, 3, 1, 3, 2, 4]))"
      ]
     },
     "execution_count": 12,
     "metadata": {},
     "output_type": "execute_result"
    }
   ],
   "source": [
    "X_train, X_test, y_train, y_test = train_test_split(X, y, test_size = 0.2, random_state = 4)\n",
    "X_train, X_test, y_train, y_test"
   ]
  },
  {
   "cell_type": "code",
   "execution_count": 13,
   "id": "580b96e1",
   "metadata": {},
   "outputs": [
    {
     "data": {
      "text/plain": [
       "((3056, 70), (3056,), (765, 70), (765,))"
      ]
     },
     "execution_count": 13,
     "metadata": {},
     "output_type": "execute_result"
    }
   ],
   "source": [
    "X_train.shape, y_train.shape, X_test.shape, y_test.shape"
   ]
  },
  {
   "cell_type": "code",
   "execution_count": 37,
   "id": "2d9ee423",
   "metadata": {},
   "outputs": [
    {
     "data": {
      "text/plain": [
       "(637, 636, 705, 589, 489)"
      ]
     },
     "execution_count": 37,
     "metadata": {},
     "output_type": "execute_result"
    }
   ],
   "source": [
    "list(y_train).count(1), list(y_train).count(2), list(y_train).count(3), list(y_train).count(4), list(y_train).count(5)"
   ]
  },
  {
   "cell_type": "code",
   "execution_count": 38,
   "id": "e84652a4",
   "metadata": {},
   "outputs": [
    {
     "data": {
      "text/plain": [
       "(160, 162, 169, 137, 137)"
      ]
     },
     "execution_count": 38,
     "metadata": {},
     "output_type": "execute_result"
    }
   ],
   "source": [
    "list(y_test).count(1), list(y_test).count(2), list(y_test).count(3), list(y_test).count(4), list(y_test).count(5)"
   ]
  },
  {
   "cell_type": "code",
   "execution_count": 14,
   "id": "8912da6b",
   "metadata": {},
   "outputs": [],
   "source": [
    "# svm_classifier = svm.SVC() # kernel= 'rbf', gamma='auto', C = 2 "
   ]
  },
  {
   "cell_type": "code",
   "execution_count": 15,
   "id": "d890b01c",
   "metadata": {},
   "outputs": [],
   "source": [
    "# svm_classifier = svm.SVC(kernel= 'rbf', gamma='auto', C = 2 )\n",
    "# svm_classifier.fit(X_train, y_train)\n",
    "\n",
    "# y_predict = svm_classifier.predict(X_test)"
   ]
  },
  {
   "cell_type": "code",
   "execution_count": 16,
   "id": "12d9f52b",
   "metadata": {},
   "outputs": [],
   "source": [
    "# # Model Accuracy: how often is the classifier correct?\n",
    "# print(\"Accuracy:\",metrics.accuracy_score(y_test, y_predict))"
   ]
  },
  {
   "cell_type": "code",
   "execution_count": 17,
   "id": "98f299e6",
   "metadata": {},
   "outputs": [],
   "source": [
    "# scores = cross_val_score(svm_classifier, X_train, y_train, cv=5)\n",
    "# scores"
   ]
  },
  {
   "cell_type": "code",
   "execution_count": 18,
   "id": "3e68a095",
   "metadata": {},
   "outputs": [],
   "source": [
    "# print('Accuracy: %.3f (%.3f)' % (mean(scores), std(scores)))"
   ]
  },
  {
   "cell_type": "code",
   "execution_count": 30,
   "id": "48b46c84",
   "metadata": {},
   "outputs": [
    {
     "data": {
      "text/plain": [
       "SVC(C=6, gamma=0.9)"
      ]
     },
     "execution_count": 30,
     "metadata": {},
     "output_type": "execute_result"
    }
   ],
   "source": [
    "svm_classifier2 = svm.SVC(C=6, gamma=0.9, kernel='rbf')\n",
    "svm_classifier2.fit(X_train, y_train)"
   ]
  },
  {
   "cell_type": "code",
   "execution_count": 31,
   "id": "b25159ae",
   "metadata": {},
   "outputs": [
    {
     "data": {
      "text/plain": [
       "0.9770942408376964"
      ]
     },
     "execution_count": 31,
     "metadata": {},
     "output_type": "execute_result"
    }
   ],
   "source": [
    "svm_classifier2.score(X_train, y_train)"
   ]
  },
  {
   "cell_type": "code",
   "execution_count": 32,
   "id": "3905fc09",
   "metadata": {},
   "outputs": [],
   "source": [
    "y_predict = svm_classifier2.predict(X_test)"
   ]
  },
  {
   "cell_type": "code",
   "execution_count": 33,
   "id": "afcfff04",
   "metadata": {},
   "outputs": [
    {
     "name": "stdout",
     "output_type": "stream",
     "text": [
      "Accuracy: 0.6405228758169934\n"
     ]
    }
   ],
   "source": [
    "print(\"Accuracy:\",metrics.accuracy_score(y_test, y_predict))"
   ]
  },
  {
   "cell_type": "code",
   "execution_count": 34,
   "id": "59e03c32",
   "metadata": {},
   "outputs": [
    {
     "data": {
      "text/plain": [
       "array([0.61928105, 0.57610475, 0.55319149, 0.58265139, 0.57774141])"
      ]
     },
     "execution_count": 34,
     "metadata": {},
     "output_type": "execute_result"
    }
   ],
   "source": [
    "scores2 = cross_val_score(svm_classifier2, X_train, y_train, cv=5)\n",
    "scores2"
   ]
  },
  {
   "cell_type": "code",
   "execution_count": 35,
   "id": "0a944c61",
   "metadata": {},
   "outputs": [
    {
     "data": {
      "image/png": "[encoded data removed]",
      "text/plain": [
       "<Figure size 432x288 with 2 Axes>"
      ]
     },
     "metadata": {
      "needs_background": "light"
     },
     "output_type": "display_data"
    }
   ],
   "source": [
    "class_names = list(set(y))\n",
    "disp = plot_confusion_matrix(svm_classifier2, X_test, y_test,\n",
    "                                 display_labels=class_names,\n",
    "                                 cmap=plt.cm.Blues)"
   ]
  },
  {
   "cell_type": "code",
   "execution_count": 36,
   "id": "fc66a7dc",
   "metadata": {},
   "outputs": [],
   "source": [
    "# svm_parameters = [{'C':[1,2,3,4,5,6,7,8,9], 'kernel':['rbf'], 'gamma':[0.1,0.2,0.4,0.4,0.5,0.6,0.7,0.8,0.9]}]\n",
    "# svm_classifier3 = svm.SVC() # kernel= 'rbf', gamma='auto', C = 2 \n",
    "# svm_classifier3 = GridSearchCV(svm_classifier3, svm_parameters, scoring = 'accuracy', cv = 5)\n",
    "# svm_classifier3.fit(X_train, y_train)\n",
    "# svm_classifier3.best_params"
   ]
  },
  {
   "cell_type": "code",
   "execution_count": null,
   "id": "c2c335d6",
   "metadata": {},
   "outputs": [],
   "source": []
  }
 ],
 "metadata": {
  "kernelspec": {
   "display_name": "Python 3 (ipykernel)",
   "language": "python",
   "name": "python3"
  },
  "language_info": {
   "codemirror_mode": {
    "name": "ipython",
    "version": 3
   },
   "file_extension": ".py",
   "mimetype": "text/x-python",
   "name": "python",
   "nbconvert_exporter": "python",
   "pygments_lexer": "ipython3",
   "version": "3.9.7"
  }
 },
 "nbformat": 4,
 "nbformat_minor": 5
}
